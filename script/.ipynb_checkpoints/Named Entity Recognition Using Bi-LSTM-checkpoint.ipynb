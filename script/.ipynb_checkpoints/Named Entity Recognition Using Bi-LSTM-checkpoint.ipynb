{
 "cells": [
  {
   "cell_type": "code",
   "execution_count": 166,
   "metadata": {},
   "outputs": [],
   "source": [
    "import pandas as pd\n",
    "import numpy as np"
   ]
  },
  {
   "cell_type": "markdown",
   "metadata": {},
   "source": [
    "### Data"
   ]
  },
  {
   "cell_type": "code",
   "execution_count": 167,
   "metadata": {},
   "outputs": [
    {
     "data": {
      "text/html": [
       "<div>\n",
       "<style scoped>\n",
       "    .dataframe tbody tr th:only-of-type {\n",
       "        vertical-align: middle;\n",
       "    }\n",
       "\n",
       "    .dataframe tbody tr th {\n",
       "        vertical-align: top;\n",
       "    }\n",
       "\n",
       "    .dataframe thead th {\n",
       "        text-align: right;\n",
       "    }\n",
       "</style>\n",
       "<table border=\"1\" class=\"dataframe\">\n",
       "  <thead>\n",
       "    <tr style=\"text-align: right;\">\n",
       "      <th></th>\n",
       "      <th>Sentence #</th>\n",
       "      <th>Word</th>\n",
       "      <th>POS</th>\n",
       "      <th>Tag</th>\n",
       "    </tr>\n",
       "  </thead>\n",
       "  <tbody>\n",
       "    <tr>\n",
       "      <th>0</th>\n",
       "      <td>Sentence: 1</td>\n",
       "      <td>Thousands</td>\n",
       "      <td>NNS</td>\n",
       "      <td>O</td>\n",
       "    </tr>\n",
       "    <tr>\n",
       "      <th>1</th>\n",
       "      <td>NaN</td>\n",
       "      <td>of</td>\n",
       "      <td>IN</td>\n",
       "      <td>O</td>\n",
       "    </tr>\n",
       "    <tr>\n",
       "      <th>2</th>\n",
       "      <td>NaN</td>\n",
       "      <td>demonstrators</td>\n",
       "      <td>NNS</td>\n",
       "      <td>O</td>\n",
       "    </tr>\n",
       "    <tr>\n",
       "      <th>3</th>\n",
       "      <td>NaN</td>\n",
       "      <td>have</td>\n",
       "      <td>VBP</td>\n",
       "      <td>O</td>\n",
       "    </tr>\n",
       "    <tr>\n",
       "      <th>4</th>\n",
       "      <td>NaN</td>\n",
       "      <td>marched</td>\n",
       "      <td>VBN</td>\n",
       "      <td>O</td>\n",
       "    </tr>\n",
       "  </tbody>\n",
       "</table>\n",
       "</div>"
      ],
      "text/plain": [
       "    Sentence #           Word  POS Tag\n",
       "0  Sentence: 1      Thousands  NNS   O\n",
       "1          NaN             of   IN   O\n",
       "2          NaN  demonstrators  NNS   O\n",
       "3          NaN           have  VBP   O\n",
       "4          NaN        marched  VBN   O"
      ]
     },
     "execution_count": 167,
     "metadata": {},
     "output_type": "execute_result"
    }
   ],
   "source": [
    "data = pd.read_csv('../data/ner_dataset.csv', encoding='unicode_escape')\n",
    "data.head()"
   ]
  },
  {
   "cell_type": "code",
   "execution_count": 170,
   "metadata": {},
   "outputs": [],
   "source": [
    "sentence_grp = {}\n",
    "key = data['Sentence #'].iloc[0].split(': ')[-1]\n",
    "sentence_grp[key] = 1\n",
    "word_count = 1\n",
    "for i in data['Sentence #'][1:]:\n",
    "    # NaN is never equal to NaN element so it'll fail at NaM\n",
    "    if i == i: \n",
    "        sentence_grp[key] = word_count\n",
    "        key = i.split(': ')[-1]\n",
    "        word_count = 1\n",
    "    word_count += 1\n",
    "\n",
    "sentence_grp = pd.DataFrame.from_dict(sentence_grp, orient='index', columns=['#words'])"
   ]
  },
  {
   "cell_type": "code",
   "execution_count": 171,
   "metadata": {},
   "outputs": [
    {
     "name": "stdout",
     "output_type": "stream",
     "text": [
      "Shape:  (1048575, 4)\n",
      "Total number of Sentences:  47958\n",
      "#words analysis:\n",
      "              #words\n",
      "count  47958.000000\n",
      "mean      22.864256\n",
      "std        7.963507\n",
      "min        2.000000\n",
      "25%       17.000000\n",
      "50%       22.000000\n",
      "75%       28.000000\n",
      "max      105.000000\n"
     ]
    }
   ],
   "source": [
    "n_sentences = data['Sentence #'].nunique() - 1 # -1 for NaN\n",
    "\n",
    "print('Shape: ', data.shape)\n",
    "print('Total number of Sentences: ', n_sentences)\n",
    "print('#words analysis:\\n', sentence_grp.describe())\n"
   ]
  },
  {
   "cell_type": "markdown",
   "metadata": {},
   "source": [
    "#### Tags Analysis"
   ]
  },
  {
   "cell_type": "code",
   "execution_count": 172,
   "metadata": {},
   "outputs": [
    {
     "name": "stdout",
     "output_type": "stream",
     "text": [
      "Unique #Tags:  17\n",
      "\n",
      "----Tags----\n",
      "0         O\n",
      "1     B-geo\n",
      "2     B-gpe\n",
      "3     B-per\n",
      "4     I-geo\n",
      "5     B-org\n",
      "6     I-org\n",
      "7     B-tim\n",
      "8     B-art\n",
      "9     I-art\n",
      "10    I-per\n",
      "11    I-gpe\n",
      "12    I-tim\n",
      "13    B-nat\n",
      "14    B-eve\n",
      "15    I-eve\n",
      "16    I-nat\n",
      "dtype: object\n"
     ]
    }
   ],
   "source": [
    "n_tags = data['Tag'].nunique()\n",
    "print('Unique #Tags: ', n_tags)\n",
    "print('\\n----Tags----')\n",
    "print(pd.Series(data['Tag'].unique()))"
   ]
  },
  {
   "cell_type": "markdown",
   "metadata": {},
   "source": [
    "### Extract Mappings Req. For Neural Network"
   ]
  },
  {
   "cell_type": "code",
   "execution_count": 173,
   "metadata": {},
   "outputs": [],
   "source": [
    "from itertools import chain"
   ]
  },
  {
   "cell_type": "code",
   "execution_count": 175,
   "metadata": {},
   "outputs": [],
   "source": [
    "def get_dict_map(data, token_or_tag):\n",
    "    tok2idx = {}\n",
    "    idx2tok = {}\n",
    "    \n",
    "    if token_or_tag == 'token':\n",
    "        vocab = list(set(data['Word'].to_list()))\n",
    "    else:\n",
    "        vocab = list(set(data['Tag'].to_list()))\n",
    "    \n",
    "    idx2tok = {(idx+1):tok for idx, tok in enumerate(vocab)}\n",
    "    tok2idx = {tok:(idx+1) for idx, tok in enumerate(vocab)}\n",
    "    \n",
    "    return tok2idx, idx2tok\n",
    "\n",
    "token2idx, idx2token = get_dict_map(data, 'token')\n",
    "tag2idx, idx2tag = get_dict_map(data, 'tag')"
   ]
  },
  {
   "cell_type": "code",
   "execution_count": 176,
   "metadata": {},
   "outputs": [
    {
     "data": {
      "text/html": [
       "<div>\n",
       "<style scoped>\n",
       "    .dataframe tbody tr th:only-of-type {\n",
       "        vertical-align: middle;\n",
       "    }\n",
       "\n",
       "    .dataframe tbody tr th {\n",
       "        vertical-align: top;\n",
       "    }\n",
       "\n",
       "    .dataframe thead th {\n",
       "        text-align: right;\n",
       "    }\n",
       "</style>\n",
       "<table border=\"1\" class=\"dataframe\">\n",
       "  <thead>\n",
       "    <tr style=\"text-align: right;\">\n",
       "      <th></th>\n",
       "      <th>Sentence #</th>\n",
       "      <th>Word</th>\n",
       "      <th>POS</th>\n",
       "      <th>Tag</th>\n",
       "      <th>Word_idx</th>\n",
       "      <th>Tag_idx</th>\n",
       "    </tr>\n",
       "  </thead>\n",
       "  <tbody>\n",
       "    <tr>\n",
       "      <th>0</th>\n",
       "      <td>Sentence: 1</td>\n",
       "      <td>Thousands</td>\n",
       "      <td>NNS</td>\n",
       "      <td>O</td>\n",
       "      <td>21503</td>\n",
       "      <td>16</td>\n",
       "    </tr>\n",
       "    <tr>\n",
       "      <th>1</th>\n",
       "      <td>NaN</td>\n",
       "      <td>of</td>\n",
       "      <td>IN</td>\n",
       "      <td>O</td>\n",
       "      <td>20142</td>\n",
       "      <td>16</td>\n",
       "    </tr>\n",
       "    <tr>\n",
       "      <th>2</th>\n",
       "      <td>NaN</td>\n",
       "      <td>demonstrators</td>\n",
       "      <td>NNS</td>\n",
       "      <td>O</td>\n",
       "      <td>29955</td>\n",
       "      <td>16</td>\n",
       "    </tr>\n",
       "    <tr>\n",
       "      <th>3</th>\n",
       "      <td>NaN</td>\n",
       "      <td>have</td>\n",
       "      <td>VBP</td>\n",
       "      <td>O</td>\n",
       "      <td>3023</td>\n",
       "      <td>16</td>\n",
       "    </tr>\n",
       "    <tr>\n",
       "      <th>4</th>\n",
       "      <td>NaN</td>\n",
       "      <td>marched</td>\n",
       "      <td>VBN</td>\n",
       "      <td>O</td>\n",
       "      <td>26343</td>\n",
       "      <td>16</td>\n",
       "    </tr>\n",
       "  </tbody>\n",
       "</table>\n",
       "</div>"
      ],
      "text/plain": [
       "    Sentence #           Word  POS Tag  Word_idx  Tag_idx\n",
       "0  Sentence: 1      Thousands  NNS   O     21503       16\n",
       "1          NaN             of   IN   O     20142       16\n",
       "2          NaN  demonstrators  NNS   O     29955       16\n",
       "3          NaN           have  VBP   O      3023       16\n",
       "4          NaN        marched  VBN   O     26343       16"
      ]
     },
     "execution_count": 176,
     "metadata": {},
     "output_type": "execute_result"
    }
   ],
   "source": [
    "data['Word_idx'] = data['Word'].map(token2idx)\n",
    "data['Tag_idx'] = data['Tag'].map(tag2idx)\n",
    "data.head()"
   ]
  },
  {
   "cell_type": "markdown",
   "metadata": {},
   "source": [
    "### Transform columns to extract sequential data"
   ]
  },
  {
   "cell_type": "code",
   "execution_count": 177,
   "metadata": {},
   "outputs": [
    {
     "data": {
      "text/html": [
       "<div>\n",
       "<style scoped>\n",
       "    .dataframe tbody tr th:only-of-type {\n",
       "        vertical-align: middle;\n",
       "    }\n",
       "\n",
       "    .dataframe tbody tr th {\n",
       "        vertical-align: top;\n",
       "    }\n",
       "\n",
       "    .dataframe thead th {\n",
       "        text-align: right;\n",
       "    }\n",
       "</style>\n",
       "<table border=\"1\" class=\"dataframe\">\n",
       "  <thead>\n",
       "    <tr style=\"text-align: right;\">\n",
       "      <th></th>\n",
       "      <th>Sentence #</th>\n",
       "      <th>Word</th>\n",
       "      <th>POS</th>\n",
       "      <th>Tag</th>\n",
       "      <th>Word_idx</th>\n",
       "      <th>Tag_idx</th>\n",
       "    </tr>\n",
       "  </thead>\n",
       "  <tbody>\n",
       "    <tr>\n",
       "      <th>0</th>\n",
       "      <td>Sentence: 1</td>\n",
       "      <td>[Thousands, of, demonstrators, have, marched, ...</td>\n",
       "      <td>[NNS, IN, NNS, VBP, VBN, IN, NNP, TO, VB, DT, ...</td>\n",
       "      <td>[O, O, O, O, O, O, B-geo, O, O, O, O, O, B-geo...</td>\n",
       "      <td>[21503, 20142, 29955, 3023, 26343, 7247, 16881...</td>\n",
       "      <td>[16, 16, 16, 16, 16, 16, 8, 16, 16, 16, 16, 16...</td>\n",
       "    </tr>\n",
       "    <tr>\n",
       "      <th>1</th>\n",
       "      <td>Sentence: 10</td>\n",
       "      <td>[Iranian, officials, say, they, expect, to, ge...</td>\n",
       "      <td>[JJ, NNS, VBP, PRP, VBP, TO, VB, NN, TO, JJ, J...</td>\n",
       "      <td>[B-gpe, O, O, O, O, O, O, O, O, O, O, O, O, O,...</td>\n",
       "      <td>[34699, 2777, 12027, 26942, 6283, 9453, 16100,...</td>\n",
       "      <td>[6, 16, 16, 16, 16, 16, 16, 16, 16, 16, 16, 16...</td>\n",
       "    </tr>\n",
       "    <tr>\n",
       "      <th>2</th>\n",
       "      <td>Sentence: 100</td>\n",
       "      <td>[Helicopter, gunships, Saturday, pounded, mili...</td>\n",
       "      <td>[NN, NNS, NNP, VBD, JJ, NNS, IN, DT, NNP, JJ, ...</td>\n",
       "      <td>[O, O, B-tim, O, O, O, O, O, B-geo, O, O, O, O...</td>\n",
       "      <td>[5914, 32317, 15375, 25297, 23958, 25121, 5223...</td>\n",
       "      <td>[16, 16, 5, 16, 16, 16, 16, 16, 8, 16, 16, 16,...</td>\n",
       "    </tr>\n",
       "    <tr>\n",
       "      <th>3</th>\n",
       "      <td>Sentence: 1000</td>\n",
       "      <td>[They, left, after, a, tense, hour-long, stand...</td>\n",
       "      <td>[PRP, VBD, IN, DT, NN, JJ, NN, IN, NN, NNS, .]</td>\n",
       "      <td>[O, O, O, O, O, O, O, O, O, O, O]</td>\n",
       "      <td>[33792, 22369, 14755, 11604, 7264, 17234, 3225...</td>\n",
       "      <td>[16, 16, 16, 16, 16, 16, 16, 16, 16, 16, 16]</td>\n",
       "    </tr>\n",
       "    <tr>\n",
       "      <th>4</th>\n",
       "      <td>Sentence: 10000</td>\n",
       "      <td>[U.N., relief, coordinator, Jan, Egeland, said...</td>\n",
       "      <td>[NNP, NN, NN, NNP, NNP, VBD, NNP, ,, NNP, ,, J...</td>\n",
       "      <td>[B-geo, O, O, B-per, I-per, O, B-tim, O, B-geo...</td>\n",
       "      <td>[1163, 30497, 6440, 29893, 7032, 5838, 11838, ...</td>\n",
       "      <td>[8, 16, 16, 13, 1, 16, 5, 16, 8, 16, 6, 16, 6,...</td>\n",
       "    </tr>\n",
       "  </tbody>\n",
       "</table>\n",
       "</div>"
      ],
      "text/plain": [
       "        Sentence #                                               Word  \\\n",
       "0      Sentence: 1  [Thousands, of, demonstrators, have, marched, ...   \n",
       "1     Sentence: 10  [Iranian, officials, say, they, expect, to, ge...   \n",
       "2    Sentence: 100  [Helicopter, gunships, Saturday, pounded, mili...   \n",
       "3   Sentence: 1000  [They, left, after, a, tense, hour-long, stand...   \n",
       "4  Sentence: 10000  [U.N., relief, coordinator, Jan, Egeland, said...   \n",
       "\n",
       "                                                 POS  \\\n",
       "0  [NNS, IN, NNS, VBP, VBN, IN, NNP, TO, VB, DT, ...   \n",
       "1  [JJ, NNS, VBP, PRP, VBP, TO, VB, NN, TO, JJ, J...   \n",
       "2  [NN, NNS, NNP, VBD, JJ, NNS, IN, DT, NNP, JJ, ...   \n",
       "3     [PRP, VBD, IN, DT, NN, JJ, NN, IN, NN, NNS, .]   \n",
       "4  [NNP, NN, NN, NNP, NNP, VBD, NNP, ,, NNP, ,, J...   \n",
       "\n",
       "                                                 Tag  \\\n",
       "0  [O, O, O, O, O, O, B-geo, O, O, O, O, O, B-geo...   \n",
       "1  [B-gpe, O, O, O, O, O, O, O, O, O, O, O, O, O,...   \n",
       "2  [O, O, B-tim, O, O, O, O, O, B-geo, O, O, O, O...   \n",
       "3                  [O, O, O, O, O, O, O, O, O, O, O]   \n",
       "4  [B-geo, O, O, B-per, I-per, O, B-tim, O, B-geo...   \n",
       "\n",
       "                                            Word_idx  \\\n",
       "0  [21503, 20142, 29955, 3023, 26343, 7247, 16881...   \n",
       "1  [34699, 2777, 12027, 26942, 6283, 9453, 16100,...   \n",
       "2  [5914, 32317, 15375, 25297, 23958, 25121, 5223...   \n",
       "3  [33792, 22369, 14755, 11604, 7264, 17234, 3225...   \n",
       "4  [1163, 30497, 6440, 29893, 7032, 5838, 11838, ...   \n",
       "\n",
       "                                             Tag_idx  \n",
       "0  [16, 16, 16, 16, 16, 16, 8, 16, 16, 16, 16, 16...  \n",
       "1  [6, 16, 16, 16, 16, 16, 16, 16, 16, 16, 16, 16...  \n",
       "2  [16, 16, 5, 16, 16, 16, 16, 16, 8, 16, 16, 16,...  \n",
       "3       [16, 16, 16, 16, 16, 16, 16, 16, 16, 16, 16]  \n",
       "4  [8, 16, 16, 13, 1, 16, 5, 16, 8, 16, 6, 16, 6,...  "
      ]
     },
     "execution_count": 177,
     "metadata": {},
     "output_type": "execute_result"
    }
   ],
   "source": [
    "# fill na\n",
    "data_fillna = data.fillna(method='ffill', axis=0)\n",
    "\n",
    "#Groupby and collect columns\n",
    "data_group = data_fillna.groupby(\n",
    "['Sentence #'],as_index=False).agg(lambda x: list(x))\n",
    "\n",
    "# Visualise data\n",
    "data_group.head()"
   ]
  },
  {
   "cell_type": "markdown",
   "metadata": {},
   "source": [
    "### 4. Split the dataset into train, test after padding"
   ]
  },
  {
   "cell_type": "code",
   "execution_count": 178,
   "metadata": {},
   "outputs": [],
   "source": [
    "from sklearn.model_selection import train_test_split\n",
    "from keras.preprocessing.sequence import pad_sequences\n",
    "from keras.utils import to_categorical"
   ]
  },
  {
   "cell_type": "code",
   "execution_count": 201,
   "metadata": {},
   "outputs": [],
   "source": [
    "def get_pad_train_test_val(data_group, data):\n",
    "    \n",
    "    #get max token and tag length\n",
    "    n_token = len(set(data['Word']))\n",
    "    n_tag = len(set(data['Tag']))\n",
    "\n",
    "    #Pad tokens (X var)\n",
    "    tokens = data_group['Word_idx'].to_list()\n",
    "    maxlen = max([len(s) for s in tokens])\n",
    "    pad_tokens = pad_sequences(tokens, maxlen = maxlen, padding='post')\n",
    "    \n",
    "    #Pad Tags (y var) and convert it into one hot encoding\n",
    "    tags = data_group['Tag_idx'].to_list()\n",
    "    pad_tags = pad_sequences(tags, maxlen, padding='post')\n",
    "    pad_tags = [to_categorical(i, num_classes=n_tag+1) for i in pad_tags]\n",
    "    # +1 is added for 0 value\n",
    "    \n",
    "    #Split train, test and validation set\n",
    "    tokens_, test_tokens, tags_, test_tags = train_test_split(pad_tokens, pad_tags, test_size=0.1, random_state=40)\n",
    "    train_tokens, val_tokens, train_tags, val_tags = train_test_split(tokens_, tags_, test_size=0.25, random_state=40)\n",
    "    \n",
    "    print(f\"\"\"Train Tokens Length: {len(train_tokens)}\n",
    "Train Tags Lenght: {len(train_tags)}\n",
    "Test Tokens Lenght: {len(test_tokens)}\n",
    "Test Tags Lenght: {len(test_tags)}\n",
    "val Tokens Lenght: {len(val_tokens)}\n",
    "val Tags Lenght: {len(val_tags)}\"\"\")\n",
    "    \n",
    "    return train_tokens, val_tokens, test_tokens, train_tags, val_tags, test_tags"
   ]
  },
  {
   "cell_type": "code",
   "execution_count": 202,
   "metadata": {},
   "outputs": [
    {
     "name": "stdout",
     "output_type": "stream",
     "text": [
      "Train Tokens Length: 32372\n",
      "Train Tags Lenght: 32372\n",
      "Test Tokens Lenght: 4796\n",
      "Test Tags Lenght: 4796\n",
      "val Tokens Lenght: 10791\n",
      "val Tags Lenght: 10791\n"
     ]
    }
   ],
   "source": [
    "train_tokens, val_tokens, test_tokens, train_tags, val_tags, test_tags = get_pad_train_test_val(data_group, data)"
   ]
  },
  {
   "cell_type": "markdown",
   "metadata": {},
   "source": [
    "### Building the model architecture"
   ]
  },
  {
   "cell_type": "code",
   "execution_count": 205,
   "metadata": {},
   "outputs": [],
   "source": [
    "import tensorflow as tf\n",
    "from tensorflow.keras import Sequential, Model, Input\n",
    "from tensorflow.keras.layers import LSTM, Embedding, Dense, \\\n",
    "TimeDistributed, Dropout, Bidirectional\n",
    "from tensorflow.keras.utils import plot_model"
   ]
  },
  {
   "cell_type": "markdown",
   "metadata": {},
   "source": [
    "##### Setting Random Seed"
   ]
  },
  {
   "cell_type": "code",
   "execution_count": 207,
   "metadata": {},
   "outputs": [],
   "source": [
    "np.random.seed(1)\n",
    "tf.random.set_seed(2)"
   ]
  },
  {
   "cell_type": "code",
   "execution_count": 219,
   "metadata": {},
   "outputs": [
    {
     "name": "stdout",
     "output_type": "stream",
     "text": [
      "input_dim:  35179 \n",
      "output_dim:  64 \n",
      "input_length:  104 \n",
      "n_tags:  18\n"
     ]
    }
   ],
   "source": [
    "input_dim = len(set(data['Word']))+1\n",
    "output_dim = 64\n",
    "input_length = max([len(s) for s in data_group['Word_idx'].tolist()])\n",
    "n_tags = len(tag2idx)+1\n",
    "print('input_dim: ', input_dim, '\\noutput_dim: ', output_dim, '\\ninput_length: ', input_length, '\\nn_tags: ', n_tags)"
   ]
  },
  {
   "cell_type": "code",
   "execution_count": null,
   "metadata": {},
   "outputs": [],
   "source": [
    "def get_bilstm_lstm_model():\n",
    "    model = Sequential()\n",
    "    \n",
    "    # Add Embedding Layer\n",
    "    emb_matrix = Embedding(input_dim = input_dim, output_dim=output_dim, input_length=input_length)\n",
    "    \n",
    "    # Add bidirectional LSTM\n",
    "    bidir_lstm = Bidirectional(LSTM(units=output_dim, return_sequences=True, dropout=0.2 ))\n",
    "    \n",
    "    "
   ]
  },
  {
   "cell_type": "code",
   "execution_count": 214,
   "metadata": {},
   "outputs": [],
   "source": [
    "def get_bilstm_lstm_model():\n",
    "    model = Sequential()\n",
    "\n",
    "    # Add Embedding layer\n",
    "    model.add(Embedding(input_dim=input_dim, output_dim=output_dim, input_length=input_length))\n",
    "\n",
    "    # Add bidirectional LSTM\n",
    "    model.add(Bidirectional(LSTM(units=output_dim, return_sequences=True, dropout=0.2, recurrent_dropout=0.2), merge_mode = 'concat'))\n",
    "\n",
    "    # Add LSTM\n",
    "    model.add(LSTM(units=output_dim, return_sequences=True, dropout=0.5, recurrent_dropout=0.5))\n",
    "\n",
    "    # Add timeDistributed Layer\n",
    "    model.add(TimeDistributed(Dense(n_tags, activation=\"relu\")))\n",
    "\n",
    "    #Optimiser \n",
    "    # adam = k.optimizers.Adam(lr=0.0005, beta_1=0.9, beta_2=0.999)\n",
    "\n",
    "    # Compile model\n",
    "    model.compile(loss='categorical_crossentropy', optimizer='adam', metrics=['accuracy'])\n",
    "    model.summary()\n",
    "    \n",
    "    return model"
   ]
  },
  {
   "cell_type": "code",
   "execution_count": 215,
   "metadata": {},
   "outputs": [],
   "source": [
    "def train_model(X, y, model):\n",
    "    loss = list()\n",
    "    for i in range(25):\n",
    "        # fit model for one epoch on this sequence\n",
    "        hist = model.fit(X, y, batch_size=1000, verbose=1, epochs=1, validation_split=0.2)\n",
    "        loss.append(hist.history['loss'][0])\n",
    "    return loss"
   ]
  },
  {
   "cell_type": "code",
   "execution_count": 216,
   "metadata": {},
   "outputs": [
    {
     "name": "stdout",
     "output_type": "stream",
     "text": [
      "Model: \"sequential_2\"\n",
      "_________________________________________________________________\n",
      "Layer (type)                 Output Shape              Param #   \n",
      "=================================================================\n",
      "embedding_2 (Embedding)      (None, 104, 64)           2251456   \n",
      "_________________________________________________________________\n",
      "bidirectional_2 (Bidirection (None, 104, 128)          66048     \n",
      "_________________________________________________________________\n",
      "lstm_5 (LSTM)                (None, 104, 64)           49408     \n",
      "_________________________________________________________________\n",
      "time_distributed_2 (TimeDist (None, 104, 18)           1170      \n",
      "=================================================================\n",
      "Total params: 2,368,082\n",
      "Trainable params: 2,368,082\n",
      "Non-trainable params: 0\n",
      "_________________________________________________________________\n",
      "Failed to import pydot. You must install pydot and graphviz for `pydotprint` to work.\n",
      "Train on 25897 samples, validate on 6475 samples\n",
      "25897/25897 [==============================] - 109s 4ms/sample - loss: 1.1260 - accuracy: 0.8879 - val_loss: 0.4154 - val_accuracy: 0.9650\n",
      "Train on 25897 samples, validate on 6475 samples\n",
      "25897/25897 [==============================] - 95s 4ms/sample - loss: 0.4034 - accuracy: 0.9595 - val_loss: 0.3165 - val_accuracy: 0.9656\n",
      "Train on 25897 samples, validate on 6475 samples\n",
      "25897/25897 [==============================] - 95s 4ms/sample - loss: 0.3400 - accuracy: 0.9608 - val_loss: 0.2959 - val_accuracy: 0.9638\n",
      "Train on 25897 samples, validate on 6475 samples\n",
      "25897/25897 [==============================] - 108s 4ms/sample - loss: 0.3031 - accuracy: 0.9613 - val_loss: 0.2557 - val_accuracy: 0.9654\n",
      "Train on 25897 samples, validate on 6475 samples\n",
      "25897/25897 [==============================] - 117s 5ms/sample - loss: 0.2880 - accuracy: 0.9616 - val_loss: 0.2475 - val_accuracy: 0.9659\n",
      "Train on 25897 samples, validate on 6475 samples\n",
      "25897/25897 [==============================] - 94s 4ms/sample - loss: 0.2670 - accuracy: 0.9622 - val_loss: 0.2171 - val_accuracy: 0.9659\n",
      "Train on 25897 samples, validate on 6475 samples\n",
      "25897/25897 [==============================] - 94s 4ms/sample - loss: 0.2771 - accuracy: 0.9601 - val_loss: 0.2884 - val_accuracy: 0.9629\n",
      "Train on 25897 samples, validate on 6475 samples\n",
      "25897/25897 [==============================] - 90s 3ms/sample - loss: 0.3001 - accuracy: 0.9602 - val_loss: 0.2551 - val_accuracy: 0.9639\n",
      "Train on 25897 samples, validate on 6475 samples\n",
      "25897/25897 [==============================] - 99s 4ms/sample - loss: 0.2661 - accuracy: 0.9617 - val_loss: 0.2247 - val_accuracy: 0.9662\n",
      "Train on 25897 samples, validate on 6475 samples\n",
      "25897/25897 [==============================] - 97s 4ms/sample - loss: 0.2400 - accuracy: 0.9621 - val_loss: 0.2160 - val_accuracy: 0.9629\n",
      "Train on 25897 samples, validate on 6475 samples\n",
      "25897/25897 [==============================] - 96s 4ms/sample - loss: 0.2336 - accuracy: 0.9617 - val_loss: 0.2007 - val_accuracy: 0.9659\n",
      "Train on 25897 samples, validate on 6475 samples\n",
      "25897/25897 [==============================] - 95s 4ms/sample - loss: 0.2105 - accuracy: 0.9623 - val_loss: 0.1742 - val_accuracy: 0.9653\n",
      "Train on 25897 samples, validate on 6475 samples\n",
      "25897/25897 [==============================] - 102s 4ms/sample - loss: 0.1948 - accuracy: 0.9630 - val_loss: 0.1632 - val_accuracy: 0.9660\n",
      "Train on 25897 samples, validate on 6475 samples\n",
      "25897/25897 [==============================] - 95s 4ms/sample - loss: 0.1755 - accuracy: 0.9631 - val_loss: 0.1478 - val_accuracy: 0.9659\n",
      "Train on 25897 samples, validate on 6475 samples\n",
      "25897/25897 [==============================] - 95s 4ms/sample - loss: 0.1627 - accuracy: 0.9633 - val_loss: 0.1423 - val_accuracy: 0.9662\n",
      "Train on 25897 samples, validate on 6475 samples\n",
      "25897/25897 [==============================] - 96s 4ms/sample - loss: 0.1963 - accuracy: 0.9599 - val_loss: 0.1844 - val_accuracy: 0.9618\n",
      "Train on 25897 samples, validate on 6475 samples\n",
      "25897/25897 [==============================] - 101s 4ms/sample - loss: 0.1834 - accuracy: 0.9621 - val_loss: 0.1462 - val_accuracy: 0.9645\n",
      "Train on 25897 samples, validate on 6475 samples\n",
      "25897/25897 [==============================] - 94s 4ms/sample - loss: 0.1565 - accuracy: 0.9631 - val_loss: 0.1360 - val_accuracy: 0.9670\n",
      "Train on 25897 samples, validate on 6475 samples\n",
      "25897/25897 [==============================] - 100s 4ms/sample - loss: 0.1502 - accuracy: 0.9640 - val_loss: 0.1359 - val_accuracy: 0.9672\n",
      "Train on 25897 samples, validate on 6475 samples\n",
      "25897/25897 [==============================] - 95s 4ms/sample - loss: 0.1459 - accuracy: 0.9643 - val_loss: 0.1382 - val_accuracy: 0.9673\n",
      "Train on 25897 samples, validate on 6475 samples\n",
      "25897/25897 [==============================] - 103s 4ms/sample - loss: 0.1403 - accuracy: 0.9644 - val_loss: 0.1279 - val_accuracy: 0.9671\n",
      "Train on 25897 samples, validate on 6475 samples\n",
      "25897/25897 [==============================] - 99s 4ms/sample - loss: 0.1377 - accuracy: 0.9645 - val_loss: 0.1295 - val_accuracy: 0.9676\n",
      "Train on 25897 samples, validate on 6475 samples\n",
      "25897/25897 [==============================] - 94s 4ms/sample - loss: 0.1943 - accuracy: 0.9627 - val_loss: 0.2233 - val_accuracy: 0.9654\n",
      "Train on 25897 samples, validate on 6475 samples\n",
      "25897/25897 [==============================] - 90s 3ms/sample - loss: 0.2047 - accuracy: 0.9628 - val_loss: 0.1619 - val_accuracy: 0.9673\n",
      "Train on 25897 samples, validate on 6475 samples\n",
      "25897/25897 [==============================] - 90s 3ms/sample - loss: 0.1592 - accuracy: 0.9641 - val_loss: 0.1416 - val_accuracy: 0.9672\n"
     ]
    }
   ],
   "source": [
    "results = pd.DataFrame()\n",
    "model_bilstm_lstm = get_bilstm_lstm_model()\n",
    "plot_model(model_bilstm_lstm)\n",
    "results['with_add_lstm'] = train_model(train_tokens, np.array(train_tags), model_bilstm_lstm)"
   ]
  },
  {
   "cell_type": "code",
   "execution_count": 218,
   "metadata": {},
   "outputs": [
    {
     "data": {
      "text/plain": [
       "[<matplotlib.lines.Line2D at 0x14c549c50>]"
      ]
     },
     "execution_count": 218,
     "metadata": {},
     "output_type": "execute_result"
    },
    {
     "data": {
      "image/png": "[encoded data removed]",
      "text/plain": [
       "<Figure size 432x288 with 1 Axes>"
      ]
     },
     "metadata": {
      "needs_background": "light"
     },
     "output_type": "display_data"
    }
   ],
   "source": [
    "import matplotlib.pyplot as plt\n",
    "plt.plot(results['with_add_lstm'])"
   ]
  },
  {
   "cell_type": "code",
   "execution_count": null,
   "metadata": {},
   "outputs": [],
   "source": []
  },
  {
   "cell_type": "markdown",
   "metadata": {},
   "source": [
    "### Future Direction"
   ]
  },
  {
   "cell_type": "markdown",
   "metadata": {},
   "source": [
    "* Try adding EOF in each sentence and see if affects the performance\n",
    "* Can we use POS tagging as input features along with the tokens for Named entity recognition? If so, would it improve its performance?\n",
    "* Try fused batch norm instead of batch norm"
   ]
  },
  {
   "cell_type": "code",
   "execution_count": null,
   "metadata": {},
   "outputs": [],
   "source": []
  },
  {
   "cell_type": "code",
   "execution_count": null,
   "metadata": {},
   "outputs": [],
   "source": []
  }
 ],
 "metadata": {
  "kernelspec": {
   "display_name": "Python 3",
   "language": "python",
   "name": "python3"
  },
  "language_info": {
   "codemirror_mode": {
    "name": "ipython",
    "version": 3
   },
   "file_extension": ".py",
   "mimetype": "text/x-python",
   "name": "python",
   "nbconvert_exporter": "python",
   "pygments_lexer": "ipython3",
   "version": "3.6.2"
  }
 },
 "nbformat": 4,
 "nbformat_minor": 2
}
