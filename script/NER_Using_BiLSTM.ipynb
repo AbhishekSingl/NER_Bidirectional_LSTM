{
  "nbformat": 4,
  "nbformat_minor": 0,
  "metadata": {
    "colab": {
      "name": "NER Using BiLSTM.ipynb",
      "provenance": [],
      "collapsed_sections": []
    },
    "kernelspec": {
      "name": "python3",
      "display_name": "Python 3"
    },
    "accelerator": "GPU"
  },
  "cells": [
    {
      "cell_type": "code",
      "metadata": {
        "id": "HU4SKULIcts_",
        "colab_type": "code",
        "colab": {}
      },
      "source": [
        "import pandas as pd\n",
        "import numpy as np\n",
        "from itertools import chain\n",
        "import datetime\n",
        "\n",
        "proj_path = '/content/drive/My Drive/Colab Notebooks/NERUsingBiLSTM/data'\n",
        "emb_path = '/content/drive/My Drive/Colab Notebooks/Embeddings'"
      ],
      "execution_count": 16,
      "outputs": []
    },
    {
      "cell_type": "markdown",
      "metadata": {
        "id": "9FMS7V88mptU",
        "colab_type": "text"
      },
      "source": [
        "### Data Import"
      ]
    },
    {
      "cell_type": "code",
      "metadata": {
        "id": "x7cpSO0odFuL",
        "colab_type": "code",
        "colab": {
          "base_uri": "https://localhost:8080/",
          "height": 204
        },
        "outputId": "580645ec-2987-4038-a245-c4240c778686"
      },
      "source": [
        "data = pd.read_csv(f'{proj_path}/ner_dataset.csv', encoding='unicode_escape')\n",
        "data.head()"
      ],
      "execution_count": 2,
      "outputs": [
        {
          "output_type": "execute_result",
          "data": {
            "text/html": [
              "<div>\n",
              "<style scoped>\n",
              "    .dataframe tbody tr th:only-of-type {\n",
              "        vertical-align: middle;\n",
              "    }\n",
              "\n",
              "    .dataframe tbody tr th {\n",
              "        vertical-align: top;\n",
              "    }\n",
              "\n",
              "    .dataframe thead th {\n",
              "        text-align: right;\n",
              "    }\n",
              "</style>\n",
              "<table border=\"1\" class=\"dataframe\">\n",
              "  <thead>\n",
              "    <tr style=\"text-align: right;\">\n",
              "      <th></th>\n",
              "      <th>Sentence #</th>\n",
              "      <th>Word</th>\n",
              "      <th>POS</th>\n",
              "      <th>Tag</th>\n",
              "    </tr>\n",
              "  </thead>\n",
              "  <tbody>\n",
              "    <tr>\n",
              "      <th>0</th>\n",
              "      <td>Sentence: 1</td>\n",
              "      <td>Thousands</td>\n",
              "      <td>NNS</td>\n",
              "      <td>O</td>\n",
              "    </tr>\n",
              "    <tr>\n",
              "      <th>1</th>\n",
              "      <td>NaN</td>\n",
              "      <td>of</td>\n",
              "      <td>IN</td>\n",
              "      <td>O</td>\n",
              "    </tr>\n",
              "    <tr>\n",
              "      <th>2</th>\n",
              "      <td>NaN</td>\n",
              "      <td>demonstrators</td>\n",
              "      <td>NNS</td>\n",
              "      <td>O</td>\n",
              "    </tr>\n",
              "    <tr>\n",
              "      <th>3</th>\n",
              "      <td>NaN</td>\n",
              "      <td>have</td>\n",
              "      <td>VBP</td>\n",
              "      <td>O</td>\n",
              "    </tr>\n",
              "    <tr>\n",
              "      <th>4</th>\n",
              "      <td>NaN</td>\n",
              "      <td>marched</td>\n",
              "      <td>VBN</td>\n",
              "      <td>O</td>\n",
              "    </tr>\n",
              "  </tbody>\n",
              "</table>\n",
              "</div>"
            ],
            "text/plain": [
              "    Sentence #           Word  POS Tag\n",
              "0  Sentence: 1      Thousands  NNS   O\n",
              "1          NaN             of   IN   O\n",
              "2          NaN  demonstrators  NNS   O\n",
              "3          NaN           have  VBP   O\n",
              "4          NaN        marched  VBN   O"
            ]
          },
          "metadata": {
            "tags": []
          },
          "execution_count": 2
        }
      ]
    },
    {
      "cell_type": "markdown",
      "metadata": {
        "id": "b0Xcgg9FnwNO",
        "colab_type": "text"
      },
      "source": [
        "##### \"Sentence\" Analysis"
      ]
    },
    {
      "cell_type": "code",
      "metadata": {
        "id": "2irVcrIom1zt",
        "colab_type": "code",
        "colab": {}
      },
      "source": [
        "data['Sentence #'] = data['Sentence #'].fillna(method='ffill', axis=0)\n",
        "sentence_grp = data.groupby('Sentence #')['Word'].count()"
      ],
      "execution_count": 3,
      "outputs": []
    },
    {
      "cell_type": "code",
      "metadata": {
        "id": "WJA46NuynkIc",
        "colab_type": "code",
        "colab": {
          "base_uri": "https://localhost:8080/",
          "height": 221
        },
        "outputId": "06b6c965-bf35-421c-d516-281f6e7dfc81"
      },
      "source": [
        "n_sentences = data['Sentence #'].nunique() - 1 # -1 for NaN\n",
        "print('Shape: ', data.shape)\n",
        "print('Total number of Sentences: ', n_sentences)\n",
        "print('#words analysis:\\n', sentence_grp.describe())"
      ],
      "execution_count": 4,
      "outputs": [
        {
          "output_type": "stream",
          "text": [
            "Shape:  (1048575, 4)\n",
            "Total number of Sentences:  47958\n",
            "#words analysis:\n",
            " count    47959.000000\n",
            "mean        21.863988\n",
            "std          7.963680\n",
            "min          1.000000\n",
            "25%         16.000000\n",
            "50%         21.000000\n",
            "75%         27.000000\n",
            "max        104.000000\n",
            "Name: Word, dtype: float64\n"
          ],
          "name": "stdout"
        }
      ]
    },
    {
      "cell_type": "markdown",
      "metadata": {
        "id": "1In-OMKIdlJP",
        "colab_type": "text"
      },
      "source": [
        "\"Tag\" Analysis"
      ]
    },
    {
      "cell_type": "code",
      "metadata": {
        "id": "AYydzkLvdnhs",
        "colab_type": "code",
        "colab": {
          "base_uri": "https://localhost:8080/",
          "height": 374
        },
        "outputId": "590d0cae-7459-453b-e7ef-dfbf672dba13"
      },
      "source": [
        "n_tags = data['Tag'].nunique()\n",
        "print('Unique #Tags: ', n_tags)\n",
        "print('\\n----Tags----')\n",
        "print(pd.Series(data['Tag'].unique()))"
      ],
      "execution_count": 5,
      "outputs": [
        {
          "output_type": "stream",
          "text": [
            "Unique #Tags:  17\n",
            "\n",
            "----Tags----\n",
            "0         O\n",
            "1     B-geo\n",
            "2     B-gpe\n",
            "3     B-per\n",
            "4     I-geo\n",
            "5     B-org\n",
            "6     I-org\n",
            "7     B-tim\n",
            "8     B-art\n",
            "9     I-art\n",
            "10    I-per\n",
            "11    I-gpe\n",
            "12    I-tim\n",
            "13    B-nat\n",
            "14    B-eve\n",
            "15    I-eve\n",
            "16    I-nat\n",
            "dtype: object\n"
          ],
          "name": "stdout"
        }
      ]
    },
    {
      "cell_type": "markdown",
      "metadata": {
        "id": "upNTvG0idn1Y",
        "colab_type": "text"
      },
      "source": [
        "### Extract Mappings Req. For Neural Network"
      ]
    },
    {
      "cell_type": "code",
      "metadata": {
        "id": "dCgLRRuZdrnh",
        "colab_type": "code",
        "colab": {
          "base_uri": "https://localhost:8080/",
          "height": 204
        },
        "outputId": "423ca229-f09e-49ec-be72-c1faa4637a15"
      },
      "source": [
        "def get_dict_map(data, token_or_tag):\n",
        "    tok2idx = {}\n",
        "    idx2tok = {}\n",
        "    \n",
        "    if token_or_tag == 'token':\n",
        "        vocab = list(set(data['Word']))\n",
        "    else:\n",
        "        vocab = list(set(data['Tag']))\n",
        "    \n",
        "    idx2tok = {(idx+1):tok for idx, tok in enumerate(vocab)}\n",
        "    tok2idx = {tok:(idx+1) for idx, tok in enumerate(vocab)}\n",
        "    \n",
        "    return tok2idx, idx2tok\n",
        "\n",
        "\n",
        "token2idx, idx2token = get_dict_map(data, 'token')\n",
        "tag2idx, idx2tag = get_dict_map(data, 'tag')\n",
        "data['Word_idx'] = data['Word'].map(token2idx)\n",
        "data['Tag_idx'] = data['Tag'].map(tag2idx)\n",
        "data.head()"
      ],
      "execution_count": 6,
      "outputs": [
        {
          "output_type": "execute_result",
          "data": {
            "text/html": [
              "<div>\n",
              "<style scoped>\n",
              "    .dataframe tbody tr th:only-of-type {\n",
              "        vertical-align: middle;\n",
              "    }\n",
              "\n",
              "    .dataframe tbody tr th {\n",
              "        vertical-align: top;\n",
              "    }\n",
              "\n",
              "    .dataframe thead th {\n",
              "        text-align: right;\n",
              "    }\n",
              "</style>\n",
              "<table border=\"1\" class=\"dataframe\">\n",
              "  <thead>\n",
              "    <tr style=\"text-align: right;\">\n",
              "      <th></th>\n",
              "      <th>Sentence #</th>\n",
              "      <th>Word</th>\n",
              "      <th>POS</th>\n",
              "      <th>Tag</th>\n",
              "      <th>Word_idx</th>\n",
              "      <th>Tag_idx</th>\n",
              "    </tr>\n",
              "  </thead>\n",
              "  <tbody>\n",
              "    <tr>\n",
              "      <th>0</th>\n",
              "      <td>Sentence: 1</td>\n",
              "      <td>Thousands</td>\n",
              "      <td>NNS</td>\n",
              "      <td>O</td>\n",
              "      <td>33756</td>\n",
              "      <td>13</td>\n",
              "    </tr>\n",
              "    <tr>\n",
              "      <th>1</th>\n",
              "      <td>Sentence: 1</td>\n",
              "      <td>of</td>\n",
              "      <td>IN</td>\n",
              "      <td>O</td>\n",
              "      <td>26921</td>\n",
              "      <td>13</td>\n",
              "    </tr>\n",
              "    <tr>\n",
              "      <th>2</th>\n",
              "      <td>Sentence: 1</td>\n",
              "      <td>demonstrators</td>\n",
              "      <td>NNS</td>\n",
              "      <td>O</td>\n",
              "      <td>17223</td>\n",
              "      <td>13</td>\n",
              "    </tr>\n",
              "    <tr>\n",
              "      <th>3</th>\n",
              "      <td>Sentence: 1</td>\n",
              "      <td>have</td>\n",
              "      <td>VBP</td>\n",
              "      <td>O</td>\n",
              "      <td>7235</td>\n",
              "      <td>13</td>\n",
              "    </tr>\n",
              "    <tr>\n",
              "      <th>4</th>\n",
              "      <td>Sentence: 1</td>\n",
              "      <td>marched</td>\n",
              "      <td>VBN</td>\n",
              "      <td>O</td>\n",
              "      <td>6318</td>\n",
              "      <td>13</td>\n",
              "    </tr>\n",
              "  </tbody>\n",
              "</table>\n",
              "</div>"
            ],
            "text/plain": [
              "    Sentence #           Word  POS Tag  Word_idx  Tag_idx\n",
              "0  Sentence: 1      Thousands  NNS   O     33756       13\n",
              "1  Sentence: 1             of   IN   O     26921       13\n",
              "2  Sentence: 1  demonstrators  NNS   O     17223       13\n",
              "3  Sentence: 1           have  VBP   O      7235       13\n",
              "4  Sentence: 1        marched  VBN   O      6318       13"
            ]
          },
          "metadata": {
            "tags": []
          },
          "execution_count": 6
        }
      ]
    },
    {
      "cell_type": "markdown",
      "metadata": {
        "id": "LSj5Lo3qdt0z",
        "colab_type": "text"
      },
      "source": [
        "### Transform columns to extract sequential data"
      ]
    },
    {
      "cell_type": "code",
      "metadata": {
        "id": "bVyG4j6fdvNN",
        "colab_type": "code",
        "colab": {
          "base_uri": "https://localhost:8080/",
          "height": 323
        },
        "outputId": "f3d4da45-a010-4722-f2bd-14c5875d3dd8"
      },
      "source": [
        "#Groupby and collect columns\n",
        "data_group = data.groupby(\n",
        "['Sentence #'],as_index=False).agg(lambda x: list(x))\n",
        "\n",
        "# Visualise data\n",
        "data_group.head()"
      ],
      "execution_count": 7,
      "outputs": [
        {
          "output_type": "execute_result",
          "data": {
            "text/html": [
              "<div>\n",
              "<style scoped>\n",
              "    .dataframe tbody tr th:only-of-type {\n",
              "        vertical-align: middle;\n",
              "    }\n",
              "\n",
              "    .dataframe tbody tr th {\n",
              "        vertical-align: top;\n",
              "    }\n",
              "\n",
              "    .dataframe thead th {\n",
              "        text-align: right;\n",
              "    }\n",
              "</style>\n",
              "<table border=\"1\" class=\"dataframe\">\n",
              "  <thead>\n",
              "    <tr style=\"text-align: right;\">\n",
              "      <th></th>\n",
              "      <th>Sentence #</th>\n",
              "      <th>Word</th>\n",
              "      <th>POS</th>\n",
              "      <th>Tag</th>\n",
              "      <th>Word_idx</th>\n",
              "      <th>Tag_idx</th>\n",
              "    </tr>\n",
              "  </thead>\n",
              "  <tbody>\n",
              "    <tr>\n",
              "      <th>0</th>\n",
              "      <td>Sentence: 1</td>\n",
              "      <td>[Thousands, of, demonstrators, have, marched, ...</td>\n",
              "      <td>[NNS, IN, NNS, VBP, VBN, IN, NNP, TO, VB, DT, ...</td>\n",
              "      <td>[O, O, O, O, O, O, B-geo, O, O, O, O, O, B-geo...</td>\n",
              "      <td>[33756, 26921, 17223, 7235, 6318, 3308, 34872,...</td>\n",
              "      <td>[13, 13, 13, 13, 13, 13, 10, 13, 13, 13, 13, 1...</td>\n",
              "    </tr>\n",
              "    <tr>\n",
              "      <th>1</th>\n",
              "      <td>Sentence: 10</td>\n",
              "      <td>[Iranian, officials, say, they, expect, to, ge...</td>\n",
              "      <td>[JJ, NNS, VBP, PRP, VBP, TO, VB, NN, TO, JJ, J...</td>\n",
              "      <td>[B-gpe, O, O, O, O, O, O, O, O, O, O, O, O, O,...</td>\n",
              "      <td>[9464, 18909, 4725, 14307, 21032, 24145, 8629,...</td>\n",
              "      <td>[16, 13, 13, 13, 13, 13, 13, 13, 13, 13, 13, 1...</td>\n",
              "    </tr>\n",
              "    <tr>\n",
              "      <th>2</th>\n",
              "      <td>Sentence: 100</td>\n",
              "      <td>[Helicopter, gunships, Saturday, pounded, mili...</td>\n",
              "      <td>[NN, NNS, NNP, VBD, JJ, NNS, IN, DT, NNP, JJ, ...</td>\n",
              "      <td>[O, O, B-tim, O, O, O, O, O, B-geo, O, O, O, O...</td>\n",
              "      <td>[12060, 15035, 27169, 22618, 1052, 15632, 3392...</td>\n",
              "      <td>[13, 13, 8, 13, 13, 13, 13, 13, 10, 13, 13, 13...</td>\n",
              "    </tr>\n",
              "    <tr>\n",
              "      <th>3</th>\n",
              "      <td>Sentence: 1000</td>\n",
              "      <td>[They, left, after, a, tense, hour-long, stand...</td>\n",
              "      <td>[PRP, VBD, IN, DT, NN, JJ, NN, IN, NN, NNS, .]</td>\n",
              "      <td>[O, O, O, O, O, O, O, O, O, O, O]</td>\n",
              "      <td>[18250, 25396, 22302, 19433, 30456, 9288, 1829...</td>\n",
              "      <td>[13, 13, 13, 13, 13, 13, 13, 13, 13, 13, 13]</td>\n",
              "    </tr>\n",
              "    <tr>\n",
              "      <th>4</th>\n",
              "      <td>Sentence: 10000</td>\n",
              "      <td>[U.N., relief, coordinator, Jan, Egeland, said...</td>\n",
              "      <td>[NNP, NN, NN, NNP, NNP, VBD, NNP, ,, NNP, ,, J...</td>\n",
              "      <td>[B-geo, O, O, B-per, I-per, O, B-tim, O, B-geo...</td>\n",
              "      <td>[27910, 29966, 20962, 22653, 28582, 30215, 284...</td>\n",
              "      <td>[10, 13, 13, 17, 3, 13, 8, 13, 10, 13, 16, 13,...</td>\n",
              "    </tr>\n",
              "  </tbody>\n",
              "</table>\n",
              "</div>"
            ],
            "text/plain": [
              "        Sentence #  ...                                            Tag_idx\n",
              "0      Sentence: 1  ...  [13, 13, 13, 13, 13, 13, 10, 13, 13, 13, 13, 1...\n",
              "1     Sentence: 10  ...  [16, 13, 13, 13, 13, 13, 13, 13, 13, 13, 13, 1...\n",
              "2    Sentence: 100  ...  [13, 13, 8, 13, 13, 13, 13, 13, 10, 13, 13, 13...\n",
              "3   Sentence: 1000  ...       [13, 13, 13, 13, 13, 13, 13, 13, 13, 13, 13]\n",
              "4  Sentence: 10000  ...  [10, 13, 13, 17, 3, 13, 8, 13, 10, 13, 16, 13,...\n",
              "\n",
              "[5 rows x 6 columns]"
            ]
          },
          "metadata": {
            "tags": []
          },
          "execution_count": 7
        }
      ]
    },
    {
      "cell_type": "markdown",
      "metadata": {
        "id": "3zidTQZFdv9O",
        "colab_type": "text"
      },
      "source": [
        "#### Split the dataset into train, test after padding"
      ]
    },
    {
      "cell_type": "code",
      "metadata": {
        "id": "RZ814Me3d02b",
        "colab_type": "code",
        "colab": {
          "base_uri": "https://localhost:8080/",
          "height": 34
        },
        "outputId": "c7ae3b2e-902b-4da0-e79f-ce5b3f05b75c"
      },
      "source": [
        "from sklearn.model_selection import train_test_split\n",
        "from keras.preprocessing.sequence import pad_sequences\n",
        "from keras.utils import to_categorical"
      ],
      "execution_count": 8,
      "outputs": [
        {
          "output_type": "stream",
          "text": [
            "Using TensorFlow backend.\n"
          ],
          "name": "stderr"
        }
      ]
    },
    {
      "cell_type": "code",
      "metadata": {
        "id": "E6Mbs8cY54SV",
        "colab_type": "code",
        "colab": {}
      },
      "source": [
        "sequence_maxlen = max(data_group['Word_idx'].map(len))"
      ],
      "execution_count": 9,
      "outputs": []
    },
    {
      "cell_type": "code",
      "metadata": {
        "id": "NrsBnoHPd1rE",
        "colab_type": "code",
        "colab": {}
      },
      "source": [
        "def padding_seq(feature, seq_maxlen, method=None, onehot_maxlen=None):\n",
        "  \n",
        "  padded_feature = pad_sequences(feature, maxlen = seq_maxlen, padding='post')\n",
        "\n",
        "  if method == 'onehot':\n",
        "    # +1 is added for '0' value \n",
        "    padded_feature = [to_categorical(i, num_classes=onehot_maxlen+1) for i in padded_feature]\n",
        "  \n",
        "  return padded_feature\n",
        "\n",
        "def train_test_val_split(pad_tokens, pad_tags):\n",
        "\n",
        "    #Split train, test and validation set\n",
        "    tokens_, test_tokens, tags_, test_tags = train_test_split(pad_tokens, pad_tags, test_size=0.1, random_state=40)\n",
        "    train_tokens, val_tokens, train_tags, val_tags = train_test_split(tokens_, tags_, test_size=0.25, random_state=40)\n",
        "    \n",
        "    print(f\"\"\"Train Tokens Length: {len(train_tokens)}\n",
        "Train Tags Lenght: {len(train_tags)}\n",
        "Test Tokens Lenght: {len(test_tokens)}\n",
        "Test Tags Lenght: {len(test_tags)}\n",
        "val Tokens Lenght: {len(val_tokens)}\n",
        "val Tags Lenght: {len(val_tags)}\"\"\")\n",
        "    \n",
        "    return train_tokens, val_tokens, test_tokens, train_tags, val_tags, test_tags"
      ],
      "execution_count": 10,
      "outputs": []
    },
    {
      "cell_type": "code",
      "metadata": {
        "id": "rKvcBKZV3sGR",
        "colab_type": "code",
        "colab": {
          "base_uri": "https://localhost:8080/",
          "height": 119
        },
        "outputId": "90662d3a-6c94-47dd-9efe-c5a8e8b2648b"
      },
      "source": [
        "pad_tokens = padding_seq(data_group['Word_idx'], sequence_maxlen)\n",
        "pad_tags = padding_seq(data_group['Tag_idx'], sequence_maxlen, method='onehot', onehot_maxlen=n_tags)\n",
        "train_tokens, val_tokens, test_tokens, train_tags, val_tags, test_tags = train_test_val_split(pad_tokens, pad_tags)"
      ],
      "execution_count": 11,
      "outputs": [
        {
          "output_type": "stream",
          "text": [
            "Train Tokens Length: 32372\n",
            "Train Tags Lenght: 32372\n",
            "Test Tokens Lenght: 4796\n",
            "Test Tags Lenght: 4796\n",
            "val Tokens Lenght: 10791\n",
            "val Tags Lenght: 10791\n"
          ],
          "name": "stdout"
        }
      ]
    },
    {
      "cell_type": "markdown",
      "metadata": {
        "id": "R4PbPceld5_a",
        "colab_type": "text"
      },
      "source": [
        "#### Building the model architecture"
      ]
    },
    {
      "cell_type": "code",
      "metadata": {
        "id": "i4GE9cd8d7ZA",
        "colab_type": "code",
        "colab": {}
      },
      "source": [
        "import tensorflow as tf\n",
        "from tensorflow.keras import Sequential, Model, Input\n",
        "from tensorflow.keras.layers import LSTM, Embedding, Dense, \\\n",
        "TimeDistributed, Dropout, Bidirectional\n",
        "from tensorflow.keras.utils import plot_model\n",
        "import keras.backend as K\n",
        "\n",
        "# Setting random seeds\n",
        "np.random.seed(1)\n",
        "tf.random.set_seed(2)"
      ],
      "execution_count": 12,
      "outputs": []
    },
    {
      "cell_type": "code",
      "metadata": {
        "id": "39crwYyqd_2L",
        "colab_type": "code",
        "colab": {
          "base_uri": "https://localhost:8080/",
          "height": 85
        },
        "outputId": "6e485bd0-64a7-4d55-b941-464f57da8284"
      },
      "source": [
        "# Variables for Neural Networks:\n",
        "input_dim = len(set(data['Word']))+1\n",
        "output_dim = 64\n",
        "input_length = max([len(s) for s in data_group['Word_idx'].tolist()])\n",
        "n_tags = len(tag2idx)+1\n",
        "print('input_dim: ', input_dim, '\\noutput_dim: ', output_dim, '\\ninput_length: ', input_length, '\\nn_tags: ', n_tags)"
      ],
      "execution_count": 13,
      "outputs": [
        {
          "output_type": "stream",
          "text": [
            "input_dim:  35179 \n",
            "output_dim:  64 \n",
            "input_length:  104 \n",
            "n_tags:  18\n"
          ],
          "name": "stdout"
        }
      ]
    },
    {
      "cell_type": "markdown",
      "metadata": {
        "id": "94LIz6KRjZg6",
        "colab_type": "text"
      },
      "source": [
        "### IMPORTANT NOTE:\n",
        "* I've removed 'recurrent dropout' from both LSTM layers as cuDNN doesn't support it.\n",
        "\n",
        "Feel free to try it."
      ]
    },
    {
      "cell_type": "code",
      "metadata": {
        "id": "ZilJuGlr6th_",
        "colab_type": "code",
        "colab": {}
      },
      "source": [
        "# F1 Metric Function\n",
        "def get_f1(y_true, y_pred): #taken from old keras source code\n",
        "    true_positives = K.sum(K.round(K.clip(y_true * y_pred, 0, 1)))\n",
        "    possible_positives = K.sum(K.round(K.clip(y_true, 0, 1)))\n",
        "    predicted_positives = K.sum(K.round(K.clip(y_pred, 0, 1)))\n",
        "    precision = true_positives / (predicted_positives + K.epsilon())\n",
        "    recall = true_positives / (possible_positives + K.epsilon())\n",
        "    f1_val = 2*(precision*recall)/(precision+recall+K.epsilon())\n",
        "    return f1_val"
      ],
      "execution_count": 14,
      "outputs": []
    },
    {
      "cell_type": "code",
      "metadata": {
        "id": "hxH3vG8LP6l4",
        "colab_type": "code",
        "colab": {}
      },
      "source": [
        "def get_bilstm_model(metrics = 'accuracy'):\n",
        "\n",
        "  # Input\n",
        "  sequence_input = Input(shape=((input_length,)), dtype='int32')\n",
        "\n",
        "  #Add Embedding Layers\n",
        "  emb_matrix = Embedding(input_dim=input_dim, output_dim=output_dim)(sequence_input)\n",
        "\n",
        "  # Add bidirectional LSTM\n",
        "  bidir_lstm = Bidirectional(LSTM(units=output_dim, dropout=0.5, return_sequences=True))(emb_matrix)\n",
        "\n",
        "  # Add LSTM\n",
        "  lstm = LSTM(units=256, dropout=0.2, return_sequences=True)(bidir_lstm)\n",
        "\n",
        "  # Add timeDistributed Layer\n",
        "  output = TimeDistributed(Dense(n_tags, activation='softmax'))(lstm)\n",
        "\n",
        "  # Model Creation\n",
        "  model = Model(inputs=[sequence_input], outputs=[output])\n",
        "\n",
        "  # Complie Model\n",
        "  if metrics == 'accuracy':\n",
        "    model.compile(loss='categorical_crossentropy', optimizer='adam', metrics=['accuracy'])\n",
        "  elif metrics == 'F1':\n",
        "    model.compile(loss='categorical_crossentropy', optimizer='adam', metrics=[get_f1])\n",
        "\n",
        "  model.summary()\n",
        "  \n",
        "  return model"
      ],
      "execution_count": 15,
      "outputs": []
    },
    {
      "cell_type": "code",
      "metadata": {
        "id": "kumxnX--eCSR",
        "colab_type": "code",
        "colab": {}
      },
      "source": [
        "# Tensorboard Settings (Enable them incase you want to analyze the results in Tensorboard)\n",
        "# log_dir = \"logs/fit/\" + datetime.datetime.now().strftime(\"%Y%m%d-%H%M%S\")\n",
        "# tensorboard_callback = tf.keras.callbacks.TensorBoard(log_dir=log_dir, histogram_freq=1)\n",
        "# Do add callback function inside model.fit like:-\n",
        "#    callbacks=[tensorboard_callback]\n",
        "def train_model(X, y, model, epoches, val=False, val_X=None, val_y=None):\n",
        "\n",
        "    if val:\n",
        "      hist = model.fit(X, y, batch_size=1000, verbose=1, epochs=epoches, validation_split=0.2)\n",
        "    else:\n",
        "      hist = model.fit(X, y, batch_size=1000, verbose=1, epochs=epoches, validation_data=(val_X, val_y))\n",
        "  \n",
        "    return hist"
      ],
      "execution_count": 17,
      "outputs": []
    },
    {
      "cell_type": "code",
      "metadata": {
        "id": "fjqYVQpYeDQb",
        "colab_type": "code",
        "colab": {
          "base_uri": "https://localhost:8080/",
          "height": 1000
        },
        "outputId": "a7ae5cb3-2652-45cc-eb3d-8a8158f58041"
      },
      "source": [
        "model_bilstm = get_bilstm_model()\n",
        "history = train_model(train_tokens, np.array(train_tags), model_bilstm, 25, True, val_tokens, np.array(val_tags))"
      ],
      "execution_count": 18,
      "outputs": [
        {
          "output_type": "stream",
          "text": [
            "Model: \"model\"\n",
            "_________________________________________________________________\n",
            "Layer (type)                 Output Shape              Param #   \n",
            "=================================================================\n",
            "input_1 (InputLayer)         [(None, 104)]             0         \n",
            "_________________________________________________________________\n",
            "embedding (Embedding)        (None, 104, 64)           2251456   \n",
            "_________________________________________________________________\n",
            "bidirectional (Bidirectional (None, 104, 128)          66048     \n",
            "_________________________________________________________________\n",
            "lstm_1 (LSTM)                (None, 104, 256)          394240    \n",
            "_________________________________________________________________\n",
            "time_distributed (TimeDistri (None, 104, 18)           4626      \n",
            "=================================================================\n",
            "Total params: 2,716,370\n",
            "Trainable params: 2,716,370\n",
            "Non-trainable params: 0\n",
            "_________________________________________________________________\n",
            "Epoch 1/25\n",
            "26/26 [==============================] - 4s 166ms/step - loss: 1.0715 - accuracy: 0.7668 - val_loss: 0.5167 - val_accuracy: 0.7902\n",
            "Epoch 2/25\n",
            "26/26 [==============================] - 3s 128ms/step - loss: 0.3576 - accuracy: 0.9099 - val_loss: 0.2513 - val_accuracy: 0.9450\n",
            "Epoch 3/25\n",
            "26/26 [==============================] - 3s 127ms/step - loss: 0.2109 - accuracy: 0.9581 - val_loss: 0.1828 - val_accuracy: 0.9651\n",
            "Epoch 4/25\n",
            "26/26 [==============================] - 3s 129ms/step - loss: 0.1777 - accuracy: 0.9631 - val_loss: 0.1697 - val_accuracy: 0.9665\n",
            "Epoch 5/25\n",
            "26/26 [==============================] - 3s 128ms/step - loss: 0.1691 - accuracy: 0.9644 - val_loss: 0.1641 - val_accuracy: 0.9673\n",
            "Epoch 6/25\n",
            "26/26 [==============================] - 3s 128ms/step - loss: 0.1650 - accuracy: 0.9653 - val_loss: 0.1612 - val_accuracy: 0.9677\n",
            "Epoch 7/25\n",
            "26/26 [==============================] - 3s 129ms/step - loss: 0.1630 - accuracy: 0.9657 - val_loss: 0.1600 - val_accuracy: 0.9675\n",
            "Epoch 8/25\n",
            "26/26 [==============================] - 3s 128ms/step - loss: 0.1612 - accuracy: 0.9662 - val_loss: 0.1583 - val_accuracy: 0.9678\n",
            "Epoch 9/25\n",
            "26/26 [==============================] - 3s 128ms/step - loss: 0.1599 - accuracy: 0.9665 - val_loss: 0.1577 - val_accuracy: 0.9676\n",
            "Epoch 10/25\n",
            "26/26 [==============================] - 3s 128ms/step - loss: 0.1585 - accuracy: 0.9667 - val_loss: 0.1560 - val_accuracy: 0.9678\n",
            "Epoch 11/25\n",
            "26/26 [==============================] - 3s 128ms/step - loss: 0.1567 - accuracy: 0.9669 - val_loss: 0.1538 - val_accuracy: 0.9678\n",
            "Epoch 12/25\n",
            "26/26 [==============================] - 3s 129ms/step - loss: 0.1535 - accuracy: 0.9670 - val_loss: 0.1491 - val_accuracy: 0.9678\n",
            "Epoch 13/25\n",
            "26/26 [==============================] - 3s 127ms/step - loss: 0.1468 - accuracy: 0.9671 - val_loss: 0.1402 - val_accuracy: 0.9678\n",
            "Epoch 14/25\n",
            "26/26 [==============================] - 3s 128ms/step - loss: 0.1351 - accuracy: 0.9672 - val_loss: 0.1251 - val_accuracy: 0.9679\n",
            "Epoch 15/25\n",
            "26/26 [==============================] - 3s 126ms/step - loss: 0.1184 - accuracy: 0.9679 - val_loss: 0.1053 - val_accuracy: 0.9692\n",
            "Epoch 16/25\n",
            "26/26 [==============================] - 3s 127ms/step - loss: 0.0969 - accuracy: 0.9708 - val_loss: 0.0832 - val_accuracy: 0.9746\n",
            "Epoch 17/25\n",
            "26/26 [==============================] - 3s 129ms/step - loss: 0.0776 - accuracy: 0.9755 - val_loss: 0.0711 - val_accuracy: 0.9778\n",
            "Epoch 18/25\n",
            "26/26 [==============================] - 3s 128ms/step - loss: 0.0660 - accuracy: 0.9788 - val_loss: 0.0636 - val_accuracy: 0.9799\n",
            "Epoch 19/25\n",
            "26/26 [==============================] - 3s 127ms/step - loss: 0.0589 - accuracy: 0.9808 - val_loss: 0.0589 - val_accuracy: 0.9816\n",
            "Epoch 20/25\n",
            "26/26 [==============================] - 3s 127ms/step - loss: 0.0535 - accuracy: 0.9826 - val_loss: 0.0550 - val_accuracy: 0.9835\n",
            "Epoch 21/25\n",
            "26/26 [==============================] - 3s 127ms/step - loss: 0.0488 - accuracy: 0.9846 - val_loss: 0.0511 - val_accuracy: 0.9854\n",
            "Epoch 22/25\n",
            "26/26 [==============================] - 3s 128ms/step - loss: 0.0441 - accuracy: 0.9865 - val_loss: 0.0479 - val_accuracy: 0.9871\n",
            "Epoch 23/25\n",
            "26/26 [==============================] - 3s 128ms/step - loss: 0.0403 - accuracy: 0.9880 - val_loss: 0.0457 - val_accuracy: 0.9879\n",
            "Epoch 24/25\n",
            "26/26 [==============================] - 3s 130ms/step - loss: 0.0373 - accuracy: 0.9891 - val_loss: 0.0443 - val_accuracy: 0.9887\n",
            "Epoch 25/25\n",
            "26/26 [==============================] - 3s 128ms/step - loss: 0.0347 - accuracy: 0.9900 - val_loss: 0.0432 - val_accuracy: 0.9892\n"
          ],
          "name": "stdout"
        }
      ]
    },
    {
      "cell_type": "code",
      "metadata": {
        "id": "sAC6MOv5dNGM",
        "colab_type": "code",
        "colab": {}
      },
      "source": [
        "# Loading Tensorboard\n",
        "# %load_ext tensorboard\n",
        "# %tensorboard --logdir logs/fit"
      ],
      "execution_count": 19,
      "outputs": []
    },
    {
      "cell_type": "code",
      "metadata": {
        "id": "he0Yb2xGd1CZ",
        "colab_type": "code",
        "colab": {
          "base_uri": "https://localhost:8080/",
          "height": 387
        },
        "outputId": "1c0e3614-6c82-4557-d306-74882c85fd74"
      },
      "source": [
        "import matplotlib.pyplot as plt\n",
        "\n",
        "def learning_curve(hist_obj, title):\n",
        "  hist = pd.DataFrame(hist_obj.history)\n",
        "\n",
        "  hist1 = hist[['accuracy', 'val_accuracy']]\n",
        "  hist2 = hist[['loss', 'val_loss']]\n",
        "  plt.figure(figsize=(18, 6))\n",
        "  plt.subplot(1, 2, 1)\n",
        "  plt.plot(hist1)\n",
        "  plt.xlabel('Epoches ------>')\n",
        "  plt.ylabel('Accuracy')\n",
        "  plt.legend(['Train Acc.', 'Val Acc.'], loc='lower right')\n",
        "  plt.title('Train and Validation Accuracy Comparison')\n",
        "  plt.subplot(1, 2, 2)\n",
        "  plt.plot(hist2)\n",
        "  plt.xlabel('Epoches ------>')\n",
        "  plt.ylabel('Loss')\n",
        "  plt.legend(['Train Loss', 'Val Loss'], loc='upper right')\n",
        "  plt.title('Train and Validation Loss Comparison')\n",
        "  plt.show()\n",
        "\n",
        "learning_curve(history, 'Learning Curves')"
      ],
      "execution_count": 20,
      "outputs": [
        {
          "output_type": "display_data",
          "data": {
            "image/png": "[encoded data removed]",
            "text/plain": [
              "<Figure size 1296x432 with 2 Axes>"
            ]
          },
          "metadata": {
            "tags": [],
            "needs_background": "light"
          }
        }
      ]
    },
    {
      "cell_type": "markdown",
      "metadata": {
        "id": "VkFIZQgRjswp",
        "colab_type": "text"
      },
      "source": [
        "#### Accuracy on Test Data"
      ]
    },
    {
      "cell_type": "code",
      "metadata": {
        "id": "wBWG4xKTkThR",
        "colab_type": "code",
        "colab": {
          "base_uri": "https://localhost:8080/",
          "height": 34
        },
        "outputId": "5459d1c9-d17c-437a-a6b5-4a3145a31475"
      },
      "source": [
        "loss, accuracy = model_bilstm.evaluate(test_tokens, np.array(test_tags), verbose=0)\n",
        "\n",
        "print('Loss: {0:.2%} and Accuracy: {1:.2%} for Test Dataset.'.format(loss, accuracy))"
      ],
      "execution_count": 21,
      "outputs": [
        {
          "output_type": "stream",
          "text": [
            "Loss: 4.26% and Accuracy: 98.92% for Test Dataset.\n"
          ],
          "name": "stdout"
        }
      ]
    },
    {
      "cell_type": "markdown",
      "metadata": {
        "id": "6CMhsMV4oEjl",
        "colab_type": "text"
      },
      "source": [
        "#### Checking results on real data:"
      ]
    },
    {
      "cell_type": "code",
      "metadata": {
        "id": "wfK2ZmTQi_ih",
        "colab_type": "code",
        "colab": {}
      },
      "source": [
        "def NER(text):\n",
        "  t = text.split()\n",
        "  maxlen = len(set(data['Word']))\n",
        "  t = [token2idx.get(i,0) for i in t]\n",
        "\n",
        "  s = pad_sequences([t], maxlen = 104, padding='post')\n",
        "  r = model_bilstm.predict(s)\n",
        "\n",
        "  result = [idx2tag.get(i,'O') for i in np.argmax(r[0], axis=1)[:len(t)]]\n",
        "  conf = ['{:.2f}'.format(i) for i in np.max(r[0], axis=1)[:len(t)]]\n",
        "  return result, conf"
      ],
      "execution_count": 22,
      "outputs": []
    },
    {
      "cell_type": "code",
      "metadata": {
        "id": "GISxTi4iopYO",
        "colab_type": "code",
        "colab": {
          "base_uri": "https://localhost:8080/",
          "height": 136
        },
        "outputId": "10ab718d-66ff-4688-dcbf-d2339384ffd7"
      },
      "source": [
        "print(\"Steve went to Paris for 8 days\")\n",
        "result, conf = NER(\"Steve went to Paris for 8 days\")\n",
        "print(result,'\\n',conf)\n",
        "\n",
        "print(\"\\nJohn lives in New York\")\n",
        "result, conf = NER(\"John lives in New York\")\n",
        "print(result,'\\n',conf)"
      ],
      "execution_count": 29,
      "outputs": [
        {
          "output_type": "stream",
          "text": [
            "Steve went to Paris for 8 days\n",
            "['B-per', 'O', 'O', 'B-geo', 'O', 'B-tim', 'O'] \n",
            " ['0.45', '0.99', '1.00', '0.88', '0.95', '0.52', '0.90']\n",
            "\n",
            "John lives in New York\n",
            "['B-per', 'O', 'O', 'B-geo', 'I-geo'] \n",
            " ['0.57', '0.99', '1.00', '0.80', '0.70']\n"
          ],
          "name": "stdout"
        }
      ]
    },
    {
      "cell_type": "markdown",
      "metadata": {
        "id": "ps9m9k5EiXvk",
        "colab_type": "text"
      },
      "source": [
        "### Future Explorations"
      ]
    },
    {
      "cell_type": "markdown",
      "metadata": {
        "id": "J8XXZp8ri_Iv",
        "colab_type": "text"
      },
      "source": [
        "* Try fixing data imbalance problem.\n",
        "* Try \"fused batch norm\" instead of batch norm."
      ]
    },
    {
      "cell_type": "code",
      "metadata": {
        "id": "y5Ad1DEzqGD7",
        "colab_type": "code",
        "colab": {}
      },
      "source": [
        ""
      ],
      "execution_count": null,
      "outputs": []
    }
  ]
}