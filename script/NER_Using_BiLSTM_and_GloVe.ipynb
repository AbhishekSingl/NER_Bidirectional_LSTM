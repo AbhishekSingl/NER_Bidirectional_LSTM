{
  "nbformat": 4,
  "nbformat_minor": 0,
  "metadata": {
    "colab": {
      "name": "NER Using BiLSTM and GloVe.ipynb",
      "provenance": [],
      "collapsed_sections": [],
      "toc_visible": true
    },
    "kernelspec": {
      "name": "python3",
      "display_name": "Python 3"
    },
    "accelerator": "GPU"
  },
  "cells": [
    {
      "cell_type": "code",
      "metadata": {
        "id": "HU4SKULIcts_",
        "colab_type": "code",
        "colab": {}
      },
      "source": [
        "import pandas as pd\n",
        "import numpy as np\n",
        "from itertools import chain\n",
        "import datetime\n",
        "\n",
        "proj_path = '/content/drive/My Drive/Colab Notebooks/NERUsingBiLSTM/data'\n",
        "emb_path = '/content/drive/My Drive/Colab Notebooks/Embeddings'"
      ],
      "execution_count": 63,
      "outputs": []
    },
    {
      "cell_type": "markdown",
      "metadata": {
        "id": "9FMS7V88mptU",
        "colab_type": "text"
      },
      "source": [
        "### Data Import"
      ]
    },
    {
      "cell_type": "code",
      "metadata": {
        "id": "x7cpSO0odFuL",
        "colab_type": "code",
        "colab": {
          "base_uri": "https://localhost:8080/",
          "height": 204
        },
        "outputId": "342c1b53-7da0-46a6-eb24-90ee344cc504"
      },
      "source": [
        "data = pd.read_csv(f'{proj_path}/ner_dataset.csv', encoding='unicode_escape')\n",
        "data.head()"
      ],
      "execution_count": 4,
      "outputs": [
        {
          "output_type": "execute_result",
          "data": {
            "text/html": [
              "<div>\n",
              "<style scoped>\n",
              "    .dataframe tbody tr th:only-of-type {\n",
              "        vertical-align: middle;\n",
              "    }\n",
              "\n",
              "    .dataframe tbody tr th {\n",
              "        vertical-align: top;\n",
              "    }\n",
              "\n",
              "    .dataframe thead th {\n",
              "        text-align: right;\n",
              "    }\n",
              "</style>\n",
              "<table border=\"1\" class=\"dataframe\">\n",
              "  <thead>\n",
              "    <tr style=\"text-align: right;\">\n",
              "      <th></th>\n",
              "      <th>Sentence #</th>\n",
              "      <th>Word</th>\n",
              "      <th>POS</th>\n",
              "      <th>Tag</th>\n",
              "    </tr>\n",
              "  </thead>\n",
              "  <tbody>\n",
              "    <tr>\n",
              "      <th>0</th>\n",
              "      <td>Sentence: 1</td>\n",
              "      <td>Thousands</td>\n",
              "      <td>NNS</td>\n",
              "      <td>O</td>\n",
              "    </tr>\n",
              "    <tr>\n",
              "      <th>1</th>\n",
              "      <td>NaN</td>\n",
              "      <td>of</td>\n",
              "      <td>IN</td>\n",
              "      <td>O</td>\n",
              "    </tr>\n",
              "    <tr>\n",
              "      <th>2</th>\n",
              "      <td>NaN</td>\n",
              "      <td>demonstrators</td>\n",
              "      <td>NNS</td>\n",
              "      <td>O</td>\n",
              "    </tr>\n",
              "    <tr>\n",
              "      <th>3</th>\n",
              "      <td>NaN</td>\n",
              "      <td>have</td>\n",
              "      <td>VBP</td>\n",
              "      <td>O</td>\n",
              "    </tr>\n",
              "    <tr>\n",
              "      <th>4</th>\n",
              "      <td>NaN</td>\n",
              "      <td>marched</td>\n",
              "      <td>VBN</td>\n",
              "      <td>O</td>\n",
              "    </tr>\n",
              "  </tbody>\n",
              "</table>\n",
              "</div>"
            ],
            "text/plain": [
              "    Sentence #           Word  POS Tag\n",
              "0  Sentence: 1      Thousands  NNS   O\n",
              "1          NaN             of   IN   O\n",
              "2          NaN  demonstrators  NNS   O\n",
              "3          NaN           have  VBP   O\n",
              "4          NaN        marched  VBN   O"
            ]
          },
          "metadata": {
            "tags": []
          },
          "execution_count": 4
        }
      ]
    },
    {
      "cell_type": "markdown",
      "metadata": {
        "id": "b0Xcgg9FnwNO",
        "colab_type": "text"
      },
      "source": [
        "##### \"Sentence\" Analysis"
      ]
    },
    {
      "cell_type": "code",
      "metadata": {
        "id": "2irVcrIom1zt",
        "colab_type": "code",
        "colab": {}
      },
      "source": [
        "data['Sentence #'] = data['Sentence #'].fillna(method='ffill', axis=0)\n",
        "sentence_grp = data.groupby('Sentence #')['Word'].count()"
      ],
      "execution_count": 5,
      "outputs": []
    },
    {
      "cell_type": "code",
      "metadata": {
        "id": "WJA46NuynkIc",
        "colab_type": "code",
        "colab": {
          "base_uri": "https://localhost:8080/",
          "height": 221
        },
        "outputId": "53e2e22e-0b43-410a-e4e9-60ca3f34d6c8"
      },
      "source": [
        "n_sentences = data['Sentence #'].nunique() - 1 # -1 for NaN\n",
        "print('Shape: ', data.shape)\n",
        "print('Total number of Sentences: ', n_sentences)\n",
        "print('#words analysis:\\n', sentence_grp.describe())"
      ],
      "execution_count": 6,
      "outputs": [
        {
          "output_type": "stream",
          "text": [
            "Shape:  (1048575, 4)\n",
            "Total number of Sentences:  47958\n",
            "#words analysis:\n",
            " count    47959.000000\n",
            "mean        21.863988\n",
            "std          7.963680\n",
            "min          1.000000\n",
            "25%         16.000000\n",
            "50%         21.000000\n",
            "75%         27.000000\n",
            "max        104.000000\n",
            "Name: Word, dtype: float64\n"
          ],
          "name": "stdout"
        }
      ]
    },
    {
      "cell_type": "markdown",
      "metadata": {
        "id": "1In-OMKIdlJP",
        "colab_type": "text"
      },
      "source": [
        "\"Tag\" Analysis"
      ]
    },
    {
      "cell_type": "code",
      "metadata": {
        "id": "AYydzkLvdnhs",
        "colab_type": "code",
        "colab": {
          "base_uri": "https://localhost:8080/",
          "height": 374
        },
        "outputId": "cc9dc843-67d6-489b-e194-ceb72c8f3ead"
      },
      "source": [
        "n_tags = data['Tag'].nunique()\n",
        "print('Unique #Tags: ', n_tags)\n",
        "print('\\n----Tags----')\n",
        "print(pd.Series(data['Tag'].unique()))"
      ],
      "execution_count": 7,
      "outputs": [
        {
          "output_type": "stream",
          "text": [
            "Unique #Tags:  17\n",
            "\n",
            "----Tags----\n",
            "0         O\n",
            "1     B-geo\n",
            "2     B-gpe\n",
            "3     B-per\n",
            "4     I-geo\n",
            "5     B-org\n",
            "6     I-org\n",
            "7     B-tim\n",
            "8     B-art\n",
            "9     I-art\n",
            "10    I-per\n",
            "11    I-gpe\n",
            "12    I-tim\n",
            "13    B-nat\n",
            "14    B-eve\n",
            "15    I-eve\n",
            "16    I-nat\n",
            "dtype: object\n"
          ],
          "name": "stdout"
        }
      ]
    },
    {
      "cell_type": "markdown",
      "metadata": {
        "id": "upNTvG0idn1Y",
        "colab_type": "text"
      },
      "source": [
        "### Extract Mappings Req. For Neural Network"
      ]
    },
    {
      "cell_type": "code",
      "metadata": {
        "id": "dCgLRRuZdrnh",
        "colab_type": "code",
        "colab": {
          "base_uri": "https://localhost:8080/",
          "height": 204
        },
        "outputId": "55675080-c906-463e-d3a7-617319cf4e12"
      },
      "source": [
        "def glove_embeddings(glove_file):\n",
        "  with open(f'{glove_file}/glove.6B.50d.txt', 'r') as f:\n",
        "    j = 1\n",
        "    token2vec = {}\n",
        "    token2idx = {}\n",
        "    idx2token = {}\n",
        "    matrix = []\n",
        "    for line in f:\n",
        "      line = line.split()\n",
        "      token = line[0]\n",
        "      vec = line[1:]\n",
        "      # Creating word to vector mapping dictionary\n",
        "      token2vec[token] = vec\n",
        "\n",
        "      # Creating word to index and index to word mapping\n",
        "      token2idx[token] = j\n",
        "      idx2token[j] = token\n",
        "\n",
        "      # Creating an embedding matrix \n",
        "      matrix.append(vec)\n",
        "      j+=1\n",
        "\n",
        "    # Handling Missing word's representation suggested by Jeffery Pennington(GloVe Author)\n",
        "    emb_matrix = np.zeros((len(matrix)+1, len(matrix[0])))\n",
        "    emb_matrix[1:] = matrix\n",
        "    emb_matrix[0] = np.mean(emb_matrix, axis=0)    \n",
        "\n",
        "  return token2vec, token2idx, idx2token, emb_matrix\n",
        "\n",
        "\n",
        "\n",
        "def get_dict_map(data, token_or_tag):\n",
        "    tok2idx = {}\n",
        "    idx2tok = {}\n",
        "    \n",
        "    if token_or_tag == 'token':\n",
        "        vocab = list(set(data['Word']))\n",
        "    else:\n",
        "        vocab = list(set(data['Tag']))\n",
        "    \n",
        "    idx2tok = {(idx+1):tok for idx, tok in enumerate(vocab)}\n",
        "    tok2idx = {tok:(idx+1) for idx, tok in enumerate(vocab)}\n",
        "    \n",
        "    return tok2idx, idx2tok\n",
        "\n",
        "token2vec, token2idx, idx2token, emb_matrix = glove_embeddings(emb_path)\n",
        "# token2idx, idx2token = get_dict_map(data, 'token')\n",
        "tag2idx, idx2tag = get_dict_map(data, 'tag')\n",
        "data['Word_idx'] = data['Word'].apply(lambda x: token2idx.get(x.lower(),0))\n",
        "data['Tag_idx'] = data['Tag'].map(tag2idx)\n",
        "data.head()"
      ],
      "execution_count": 42,
      "outputs": [
        {
          "output_type": "execute_result",
          "data": {
            "text/html": [
              "<div>\n",
              "<style scoped>\n",
              "    .dataframe tbody tr th:only-of-type {\n",
              "        vertical-align: middle;\n",
              "    }\n",
              "\n",
              "    .dataframe tbody tr th {\n",
              "        vertical-align: top;\n",
              "    }\n",
              "\n",
              "    .dataframe thead th {\n",
              "        text-align: right;\n",
              "    }\n",
              "</style>\n",
              "<table border=\"1\" class=\"dataframe\">\n",
              "  <thead>\n",
              "    <tr style=\"text-align: right;\">\n",
              "      <th></th>\n",
              "      <th>Sentence #</th>\n",
              "      <th>Word</th>\n",
              "      <th>POS</th>\n",
              "      <th>Tag</th>\n",
              "      <th>Word_idx</th>\n",
              "      <th>Tag_idx</th>\n",
              "    </tr>\n",
              "  </thead>\n",
              "  <tbody>\n",
              "    <tr>\n",
              "      <th>0</th>\n",
              "      <td>Sentence: 1</td>\n",
              "      <td>Thousands</td>\n",
              "      <td>NNS</td>\n",
              "      <td>O</td>\n",
              "      <td>870</td>\n",
              "      <td>16</td>\n",
              "    </tr>\n",
              "    <tr>\n",
              "      <th>1</th>\n",
              "      <td>Sentence: 1</td>\n",
              "      <td>of</td>\n",
              "      <td>IN</td>\n",
              "      <td>O</td>\n",
              "      <td>4</td>\n",
              "      <td>16</td>\n",
              "    </tr>\n",
              "    <tr>\n",
              "      <th>2</th>\n",
              "      <td>Sentence: 1</td>\n",
              "      <td>demonstrators</td>\n",
              "      <td>NNS</td>\n",
              "      <td>O</td>\n",
              "      <td>4469</td>\n",
              "      <td>16</td>\n",
              "    </tr>\n",
              "    <tr>\n",
              "      <th>3</th>\n",
              "      <td>Sentence: 1</td>\n",
              "      <td>have</td>\n",
              "      <td>VBP</td>\n",
              "      <td>O</td>\n",
              "      <td>34</td>\n",
              "      <td>16</td>\n",
              "    </tr>\n",
              "    <tr>\n",
              "      <th>4</th>\n",
              "      <td>Sentence: 1</td>\n",
              "      <td>marched</td>\n",
              "      <td>VBN</td>\n",
              "      <td>O</td>\n",
              "      <td>6427</td>\n",
              "      <td>16</td>\n",
              "    </tr>\n",
              "  </tbody>\n",
              "</table>\n",
              "</div>"
            ],
            "text/plain": [
              "    Sentence #           Word  POS Tag  Word_idx  Tag_idx\n",
              "0  Sentence: 1      Thousands  NNS   O       870       16\n",
              "1  Sentence: 1             of   IN   O         4       16\n",
              "2  Sentence: 1  demonstrators  NNS   O      4469       16\n",
              "3  Sentence: 1           have  VBP   O        34       16\n",
              "4  Sentence: 1        marched  VBN   O      6427       16"
            ]
          },
          "metadata": {
            "tags": []
          },
          "execution_count": 42
        }
      ]
    },
    {
      "cell_type": "markdown",
      "metadata": {
        "id": "LSj5Lo3qdt0z",
        "colab_type": "text"
      },
      "source": [
        "### Grouping words into sequential data"
      ]
    },
    {
      "cell_type": "code",
      "metadata": {
        "id": "bVyG4j6fdvNN",
        "colab_type": "code",
        "colab": {
          "base_uri": "https://localhost:8080/",
          "height": 323
        },
        "outputId": "30083c5b-9c16-44b5-8b6f-ebe9cc0bbad1"
      },
      "source": [
        "#Groupby and collect columns\n",
        "data_group = data.groupby(\n",
        "['Sentence #'],as_index=False).agg(lambda x: list(x))\n",
        "\n",
        "# Visualise data\n",
        "data_group.head()"
      ],
      "execution_count": 45,
      "outputs": [
        {
          "output_type": "execute_result",
          "data": {
            "text/html": [
              "<div>\n",
              "<style scoped>\n",
              "    .dataframe tbody tr th:only-of-type {\n",
              "        vertical-align: middle;\n",
              "    }\n",
              "\n",
              "    .dataframe tbody tr th {\n",
              "        vertical-align: top;\n",
              "    }\n",
              "\n",
              "    .dataframe thead th {\n",
              "        text-align: right;\n",
              "    }\n",
              "</style>\n",
              "<table border=\"1\" class=\"dataframe\">\n",
              "  <thead>\n",
              "    <tr style=\"text-align: right;\">\n",
              "      <th></th>\n",
              "      <th>Sentence #</th>\n",
              "      <th>Word</th>\n",
              "      <th>POS</th>\n",
              "      <th>Tag</th>\n",
              "      <th>Word_idx</th>\n",
              "      <th>Tag_idx</th>\n",
              "    </tr>\n",
              "  </thead>\n",
              "  <tbody>\n",
              "    <tr>\n",
              "      <th>0</th>\n",
              "      <td>Sentence: 1</td>\n",
              "      <td>[Thousands, of, demonstrators, have, marched, ...</td>\n",
              "      <td>[NNS, IN, NNS, VBP, VBN, IN, NNP, TO, VB, DT, ...</td>\n",
              "      <td>[O, O, O, O, O, O, B-geo, O, O, O, O, O, B-geo...</td>\n",
              "      <td>[870, 4, 4469, 34, 6427, 132, 517, 5, 1560, 1,...</td>\n",
              "      <td>[16, 16, 16, 16, 16, 16, 10, 16, 16, 16, 16, 1...</td>\n",
              "    </tr>\n",
              "    <tr>\n",
              "      <th>1</th>\n",
              "      <td>Sentence: 10</td>\n",
              "      <td>[Iranian, officials, say, they, expect, to, ge...</td>\n",
              "      <td>[JJ, NNS, VBP, PRP, VBP, TO, VB, NN, TO, JJ, J...</td>\n",
              "      <td>[B-gpe, O, O, O, O, O, O, O, O, O, O, O, O, O,...</td>\n",
              "      <td>[1862, 149, 204, 40, 1544, 5, 170, 1123, 5, 57...</td>\n",
              "      <td>[5, 16, 16, 16, 16, 16, 16, 16, 16, 16, 16, 16...</td>\n",
              "    </tr>\n",
              "    <tr>\n",
              "      <th>2</th>\n",
              "      <td>Sentence: 100</td>\n",
              "      <td>[Helicopter, gunships, Saturday, pounded, mili...</td>\n",
              "      <td>[NN, NNS, NNP, VBD, JJ, NNS, IN, DT, NNP, JJ, ...</td>\n",
              "      <td>[O, O, B-tim, O, O, O, O, O, B-geo, O, O, O, O...</td>\n",
              "      <td>[3135, 18436, 278, 13028, 2786, 23037, 7, 1, 5...</td>\n",
              "      <td>[16, 16, 8, 16, 16, 16, 16, 16, 10, 16, 16, 16...</td>\n",
              "    </tr>\n",
              "    <tr>\n",
              "      <th>3</th>\n",
              "      <td>Sentence: 1000</td>\n",
              "      <td>[They, left, after, a, tense, hour-long, stand...</td>\n",
              "      <td>[PRP, VBD, IN, DT, NN, JJ, NN, IN, NN, NNS, .]</td>\n",
              "      <td>[O, O, O, O, O, O, O, O, O, O, O]</td>\n",
              "      <td>[40, 219, 50, 8, 6188, 44397, 6440, 18, 5424, ...</td>\n",
              "      <td>[16, 16, 16, 16, 16, 16, 16, 16, 16, 16, 16]</td>\n",
              "    </tr>\n",
              "    <tr>\n",
              "      <th>4</th>\n",
              "      <td>Sentence: 10000</td>\n",
              "      <td>[U.N., relief, coordinator, Jan, Egeland, said...</td>\n",
              "      <td>[NNP, NN, NN, NNP, NNP, VBD, NNP, ,, NNP, ,, J...</td>\n",
              "      <td>[B-geo, O, O, B-per, I-per, O, B-tim, O, B-geo...</td>\n",
              "      <td>[731, 1826, 5222, 4188, 29459, 17, 241, 2, 100...</td>\n",
              "      <td>[10, 16, 16, 12, 1, 16, 8, 16, 10, 16, 5, 16, ...</td>\n",
              "    </tr>\n",
              "  </tbody>\n",
              "</table>\n",
              "</div>"
            ],
            "text/plain": [
              "        Sentence #  ...                                            Tag_idx\n",
              "0      Sentence: 1  ...  [16, 16, 16, 16, 16, 16, 10, 16, 16, 16, 16, 1...\n",
              "1     Sentence: 10  ...  [5, 16, 16, 16, 16, 16, 16, 16, 16, 16, 16, 16...\n",
              "2    Sentence: 100  ...  [16, 16, 8, 16, 16, 16, 16, 16, 10, 16, 16, 16...\n",
              "3   Sentence: 1000  ...       [16, 16, 16, 16, 16, 16, 16, 16, 16, 16, 16]\n",
              "4  Sentence: 10000  ...  [10, 16, 16, 12, 1, 16, 8, 16, 10, 16, 5, 16, ...\n",
              "\n",
              "[5 rows x 6 columns]"
            ]
          },
          "metadata": {
            "tags": []
          },
          "execution_count": 45
        }
      ]
    },
    {
      "cell_type": "markdown",
      "metadata": {
        "id": "3zidTQZFdv9O",
        "colab_type": "text"
      },
      "source": [
        "#### Split the dataset into train, test after padding"
      ]
    },
    {
      "cell_type": "code",
      "metadata": {
        "id": "RZ814Me3d02b",
        "colab_type": "code",
        "colab": {
          "base_uri": "https://localhost:8080/",
          "height": 34
        },
        "outputId": "dce98dbe-d43f-44a5-897e-3b74493c92ba"
      },
      "source": [
        "from sklearn.model_selection import train_test_split\n",
        "from keras.preprocessing.sequence import pad_sequences\n",
        "from keras.utils import to_categorical"
      ],
      "execution_count": 46,
      "outputs": [
        {
          "output_type": "stream",
          "text": [
            "Using TensorFlow backend.\n"
          ],
          "name": "stderr"
        }
      ]
    },
    {
      "cell_type": "code",
      "metadata": {
        "id": "E6Mbs8cY54SV",
        "colab_type": "code",
        "colab": {}
      },
      "source": [
        "sequence_maxlen = max(data_group['Word_idx'].map(len))"
      ],
      "execution_count": 47,
      "outputs": []
    },
    {
      "cell_type": "code",
      "metadata": {
        "id": "NrsBnoHPd1rE",
        "colab_type": "code",
        "colab": {}
      },
      "source": [
        "def padding_seq(feature, seq_maxlen, method=None, onehot_maxlen=None):\n",
        "  \n",
        "  padded_feature = pad_sequences(feature, maxlen = seq_maxlen, padding='post')\n",
        "\n",
        "  if method == 'onehot':\n",
        "    # +1 is added for '0' value \n",
        "    padded_feature = [to_categorical(i, num_classes=onehot_maxlen+1) for i in padded_feature]\n",
        "  \n",
        "  return padded_feature\n",
        "\n",
        "def train_test_val_split(pad_tokens, pad_tags):\n",
        "\n",
        "    #Split train, test and validation set\n",
        "    tokens_, test_tokens, tags_, test_tags = train_test_split(pad_tokens, pad_tags, test_size=0.1, random_state=40)\n",
        "    train_tokens, val_tokens, train_tags, val_tags = train_test_split(tokens_, tags_, test_size=0.25, random_state=40)\n",
        "    \n",
        "    print(f\"\"\"Train Tokens Length: {len(train_tokens)}\n",
        "Train Tags Lenght: {len(train_tags)}\n",
        "Test Tokens Lenght: {len(test_tokens)}\n",
        "Test Tags Lenght: {len(test_tags)}\n",
        "val Tokens Lenght: {len(val_tokens)}\n",
        "val Tags Lenght: {len(val_tags)}\"\"\")\n",
        "    \n",
        "    return train_tokens, val_tokens, test_tokens, train_tags, val_tags, test_tags"
      ],
      "execution_count": 48,
      "outputs": []
    },
    {
      "cell_type": "code",
      "metadata": {
        "id": "rKvcBKZV3sGR",
        "colab_type": "code",
        "colab": {
          "base_uri": "https://localhost:8080/",
          "height": 119
        },
        "outputId": "9fb41af4-d081-4ee0-cf3f-937873e9d1eb"
      },
      "source": [
        "pad_tokens = padding_seq(data_group['Word_idx'], sequence_maxlen)\n",
        "pad_tags = padding_seq(data_group['Tag_idx'], sequence_maxlen, method='onehot', onehot_maxlen=n_tags)\n",
        "train_tokens, val_tokens, test_tokens, train_tags, val_tags, test_tags = train_test_val_split(pad_tokens, pad_tags)"
      ],
      "execution_count": 49,
      "outputs": [
        {
          "output_type": "stream",
          "text": [
            "Train Tokens Length: 32372\n",
            "Train Tags Lenght: 32372\n",
            "Test Tokens Lenght: 4796\n",
            "Test Tags Lenght: 4796\n",
            "val Tokens Lenght: 10791\n",
            "val Tags Lenght: 10791\n"
          ],
          "name": "stdout"
        }
      ]
    },
    {
      "cell_type": "markdown",
      "metadata": {
        "id": "R4PbPceld5_a",
        "colab_type": "text"
      },
      "source": [
        "#### Building the model architecture"
      ]
    },
    {
      "cell_type": "code",
      "metadata": {
        "id": "i4GE9cd8d7ZA",
        "colab_type": "code",
        "colab": {}
      },
      "source": [
        "import tensorflow as tf\n",
        "from tensorflow.keras import Sequential, Model, Input\n",
        "from tensorflow.keras.layers import LSTM, Embedding, Dense, \\\n",
        "TimeDistributed, Dropout, Bidirectional\n",
        "from tensorflow.keras.utils import plot_model\n",
        "import keras.backend as K\n",
        "\n",
        "# Setting random seeds\n",
        "np.random.seed(1)\n",
        "tf.random.set_seed(2)"
      ],
      "execution_count": 50,
      "outputs": []
    },
    {
      "cell_type": "code",
      "metadata": {
        "id": "39crwYyqd_2L",
        "colab_type": "code",
        "colab": {
          "base_uri": "https://localhost:8080/",
          "height": 85
        },
        "outputId": "a9078d56-8f24-4b4e-ab9a-928da94a1898"
      },
      "source": [
        "# Variables for Neural Networks:\n",
        "input_dim = len(emb_matrix)\n",
        "output_dim = len(emb_matrix[0])\n",
        "input_length = max([len(s) for s in data_group['Word_idx'].tolist()])\n",
        "n_tags = len(tag2idx)+1\n",
        "print('input_dim: ', input_dim, '\\noutput_dim: ', output_dim, '\\ninput_length: ', input_length, '\\nn_tags: ', n_tags)"
      ],
      "execution_count": 53,
      "outputs": [
        {
          "output_type": "stream",
          "text": [
            "input_dim:  400001 \n",
            "output_dim:  50 \n",
            "input_length:  104 \n",
            "n_tags:  18\n"
          ],
          "name": "stdout"
        }
      ]
    },
    {
      "cell_type": "markdown",
      "metadata": {
        "id": "94LIz6KRjZg6",
        "colab_type": "text"
      },
      "source": [
        "### IMPORTANT NOTE:\n",
        "* I've removed 'recurrent dropout' from both LSTM layers as cuDNN doesn't support it.\n",
        "\n",
        "Feel free to try it."
      ]
    },
    {
      "cell_type": "code",
      "metadata": {
        "id": "ZilJuGlr6th_",
        "colab_type": "code",
        "colab": {}
      },
      "source": [
        "# F1 Metric Function\n",
        "def get_f1(y_true, y_pred): #taken from old keras source code\n",
        "    true_positives = K.sum(K.round(K.clip(y_true * y_pred, 0, 1)))\n",
        "    possible_positives = K.sum(K.round(K.clip(y_true, 0, 1)))\n",
        "    predicted_positives = K.sum(K.round(K.clip(y_pred, 0, 1)))\n",
        "    precision = true_positives / (predicted_positives + K.epsilon())\n",
        "    recall = true_positives / (possible_positives + K.epsilon())\n",
        "    f1_val = 2*(precision*recall)/(precision+recall+K.epsilon())\n",
        "    return f1_val"
      ],
      "execution_count": 52,
      "outputs": []
    },
    {
      "cell_type": "code",
      "metadata": {
        "id": "hxH3vG8LP6l4",
        "colab_type": "code",
        "colab": {}
      },
      "source": [
        "def get_bilstm_model(metrics = 'accuracy'):\n",
        "\n",
        "  # Input\n",
        "  sequence_input = Input(shape=((input_length,)), dtype='int32')\n",
        "\n",
        "  #Add Embedding Layers\n",
        "  emb_layer = Embedding(input_dim=input_dim, output_dim=output_dim, weights=[emb_matrix], trainable=False)(sequence_input)\n",
        "\n",
        "  # Add bidirectional LSTM\n",
        "  bidir_lstm = Bidirectional(LSTM(units=output_dim, dropout=0.5, return_sequences=True))(emb_layer)\n",
        "\n",
        "  # Add LSTM\n",
        "  lstm = LSTM(units=256, dropout=0.2, return_sequences=True)(bidir_lstm)\n",
        "\n",
        "  # Add timeDistributed Layer\n",
        "  output = TimeDistributed(Dense(n_tags, activation='softmax'))(lstm)\n",
        "\n",
        "  # Model Creation\n",
        "  model = Model(inputs=[sequence_input], outputs=[output])\n",
        "\n",
        "  # Complie Model\n",
        "  if metrics == 'accuracy':\n",
        "    model.compile(loss='categorical_crossentropy', optimizer='adam', metrics=['accuracy'])\n",
        "  elif metrics == 'F1':\n",
        "    model.compile(loss='categorical_crossentropy', optimizer='adam', metrics=[get_f1])\n",
        "\n",
        "  model.summary()\n",
        "  \n",
        "  return model"
      ],
      "execution_count": 57,
      "outputs": []
    },
    {
      "cell_type": "code",
      "metadata": {
        "id": "kumxnX--eCSR",
        "colab_type": "code",
        "colab": {}
      },
      "source": [
        "# # Tensorboard Settings (Enable them incase you want to analyze the results in Tensorboard)\n",
        "# log_dir = \"logs/fit/\" + datetime.datetime.now().strftime(\"%Y%m%d-%H%M%S\")\n",
        "# tensorboard_callback = tf.keras.callbacks.TensorBoard(log_dir=log_dir, histogram_freq=1)\n",
        "# Do add callback function inside model.fit like:-\n",
        "#    callbacks=[tensorboard_callback]\n",
        "\n",
        "def train_model(X, y, model, epoches, val=False, val_X=None, val_y=None):\n",
        "\n",
        "    if val:\n",
        "      hist = model.fit(X, y, batch_size=1000, verbose=1, epochs=epoches, validation_split=0.2)\n",
        "    else:\n",
        "      hist = model.fit(X, y, batch_size=1000, verbose=1, epochs=epoches, validation_data=(val_X, val_y))\n",
        "  \n",
        "    return hist"
      ],
      "execution_count": 64,
      "outputs": []
    },
    {
      "cell_type": "code",
      "metadata": {
        "id": "fjqYVQpYeDQb",
        "colab_type": "code",
        "colab": {
          "base_uri": "https://localhost:8080/",
          "height": 1000
        },
        "outputId": "d437fb4e-47f3-4d74-e92b-a24bf33bc53d"
      },
      "source": [
        "model_bilstm = get_bilstm_model()\n",
        "history = train_model(train_tokens, np.array(train_tags), model_bilstm, 40, True, val_tokens, np.array(val_tags))"
      ],
      "execution_count": 66,
      "outputs": [
        {
          "output_type": "stream",
          "text": [
            "Model: \"model_3\"\n",
            "_________________________________________________________________\n",
            "Layer (type)                 Output Shape              Param #   \n",
            "=================================================================\n",
            "input_5 (InputLayer)         [(None, 104)]             0         \n",
            "_________________________________________________________________\n",
            "embedding_3 (Embedding)      (None, 104, 50)           20000050  \n",
            "_________________________________________________________________\n",
            "bidirectional_3 (Bidirection (None, 104, 100)          40400     \n",
            "_________________________________________________________________\n",
            "lstm_7 (LSTM)                (None, 104, 256)          365568    \n",
            "_________________________________________________________________\n",
            "time_distributed_3 (TimeDist (None, 104, 18)           4626      \n",
            "=================================================================\n",
            "Total params: 20,410,644\n",
            "Trainable params: 410,594\n",
            "Non-trainable params: 20,000,050\n",
            "_________________________________________________________________\n",
            "Epoch 1/40\n",
            "26/26 [==============================] - 6s 219ms/step - loss: 0.6734 - accuracy: 0.9058 - val_loss: 0.1931 - val_accuracy: 0.9653\n",
            "Epoch 2/40\n",
            "26/26 [==============================] - 4s 167ms/step - loss: 0.1875 - accuracy: 0.9631 - val_loss: 0.1749 - val_accuracy: 0.9652\n",
            "Epoch 3/40\n",
            "26/26 [==============================] - 4s 166ms/step - loss: 0.1726 - accuracy: 0.9647 - val_loss: 0.1641 - val_accuracy: 0.9671\n",
            "Epoch 4/40\n",
            "26/26 [==============================] - 4s 166ms/step - loss: 0.1637 - accuracy: 0.9655 - val_loss: 0.1560 - val_accuracy: 0.9674\n",
            "Epoch 5/40\n",
            "26/26 [==============================] - 4s 166ms/step - loss: 0.1548 - accuracy: 0.9662 - val_loss: 0.1448 - val_accuracy: 0.9675\n",
            "Epoch 6/40\n",
            "26/26 [==============================] - 4s 167ms/step - loss: 0.1434 - accuracy: 0.9668 - val_loss: 0.1306 - val_accuracy: 0.9676\n",
            "Epoch 7/40\n",
            "26/26 [==============================] - 4s 167ms/step - loss: 0.1326 - accuracy: 0.9673 - val_loss: 0.1197 - val_accuracy: 0.9681\n",
            "Epoch 8/40\n",
            "26/26 [==============================] - 4s 167ms/step - loss: 0.1240 - accuracy: 0.9681 - val_loss: 0.1101 - val_accuracy: 0.9695\n",
            "Epoch 9/40\n",
            "26/26 [==============================] - 4s 168ms/step - loss: 0.1167 - accuracy: 0.9691 - val_loss: 0.1023 - val_accuracy: 0.9711\n",
            "Epoch 10/40\n",
            "26/26 [==============================] - 4s 166ms/step - loss: 0.1103 - accuracy: 0.9699 - val_loss: 0.0948 - val_accuracy: 0.9721\n",
            "Epoch 11/40\n",
            "26/26 [==============================] - 4s 166ms/step - loss: 0.1045 - accuracy: 0.9705 - val_loss: 0.0881 - val_accuracy: 0.9732\n",
            "Epoch 12/40\n",
            "26/26 [==============================] - 4s 167ms/step - loss: 0.0990 - accuracy: 0.9716 - val_loss: 0.0826 - val_accuracy: 0.9748\n",
            "Epoch 13/40\n",
            "26/26 [==============================] - 4s 166ms/step - loss: 0.0946 - accuracy: 0.9724 - val_loss: 0.0779 - val_accuracy: 0.9767\n",
            "Epoch 14/40\n",
            "26/26 [==============================] - 4s 166ms/step - loss: 0.0907 - accuracy: 0.9735 - val_loss: 0.0742 - val_accuracy: 0.9781\n",
            "Epoch 15/40\n",
            "26/26 [==============================] - 4s 167ms/step - loss: 0.0875 - accuracy: 0.9743 - val_loss: 0.0709 - val_accuracy: 0.9795\n",
            "Epoch 16/40\n",
            "26/26 [==============================] - 4s 166ms/step - loss: 0.0846 - accuracy: 0.9752 - val_loss: 0.0682 - val_accuracy: 0.9807\n",
            "Epoch 17/40\n",
            "26/26 [==============================] - 4s 166ms/step - loss: 0.0822 - accuracy: 0.9759 - val_loss: 0.0653 - val_accuracy: 0.9817\n",
            "Epoch 18/40\n",
            "26/26 [==============================] - 4s 166ms/step - loss: 0.0798 - accuracy: 0.9767 - val_loss: 0.0633 - val_accuracy: 0.9823\n",
            "Epoch 19/40\n",
            "26/26 [==============================] - 4s 165ms/step - loss: 0.0776 - accuracy: 0.9772 - val_loss: 0.0615 - val_accuracy: 0.9829\n",
            "Epoch 20/40\n",
            "26/26 [==============================] - 4s 167ms/step - loss: 0.0758 - accuracy: 0.9778 - val_loss: 0.0597 - val_accuracy: 0.9834\n",
            "Epoch 21/40\n",
            "26/26 [==============================] - 4s 165ms/step - loss: 0.0741 - accuracy: 0.9783 - val_loss: 0.0577 - val_accuracy: 0.9841\n",
            "Epoch 22/40\n",
            "26/26 [==============================] - 4s 167ms/step - loss: 0.0725 - accuracy: 0.9788 - val_loss: 0.0568 - val_accuracy: 0.9844\n",
            "Epoch 23/40\n",
            "26/26 [==============================] - 4s 166ms/step - loss: 0.0711 - accuracy: 0.9792 - val_loss: 0.0549 - val_accuracy: 0.9848\n",
            "Epoch 24/40\n",
            "26/26 [==============================] - 4s 166ms/step - loss: 0.0696 - accuracy: 0.9797 - val_loss: 0.0539 - val_accuracy: 0.9852\n",
            "Epoch 25/40\n",
            "26/26 [==============================] - 4s 165ms/step - loss: 0.0684 - accuracy: 0.9801 - val_loss: 0.0534 - val_accuracy: 0.9853\n",
            "Epoch 26/40\n",
            "26/26 [==============================] - 4s 165ms/step - loss: 0.0677 - accuracy: 0.9803 - val_loss: 0.0524 - val_accuracy: 0.9855\n",
            "Epoch 27/40\n",
            "26/26 [==============================] - 4s 165ms/step - loss: 0.0664 - accuracy: 0.9806 - val_loss: 0.0512 - val_accuracy: 0.9859\n",
            "Epoch 28/40\n",
            "26/26 [==============================] - 4s 166ms/step - loss: 0.0655 - accuracy: 0.9810 - val_loss: 0.0501 - val_accuracy: 0.9861\n",
            "Epoch 29/40\n",
            "26/26 [==============================] - 4s 166ms/step - loss: 0.0648 - accuracy: 0.9812 - val_loss: 0.0498 - val_accuracy: 0.9862\n",
            "Epoch 30/40\n",
            "26/26 [==============================] - 4s 165ms/step - loss: 0.0638 - accuracy: 0.9814 - val_loss: 0.0504 - val_accuracy: 0.9861\n",
            "Epoch 31/40\n",
            "26/26 [==============================] - 4s 165ms/step - loss: 0.0633 - accuracy: 0.9816 - val_loss: 0.0493 - val_accuracy: 0.9864\n",
            "Epoch 32/40\n",
            "26/26 [==============================] - 4s 165ms/step - loss: 0.0626 - accuracy: 0.9818 - val_loss: 0.0481 - val_accuracy: 0.9867\n",
            "Epoch 33/40\n",
            "26/26 [==============================] - 4s 165ms/step - loss: 0.0618 - accuracy: 0.9820 - val_loss: 0.0473 - val_accuracy: 0.9868\n",
            "Epoch 34/40\n",
            "26/26 [==============================] - 4s 165ms/step - loss: 0.0615 - accuracy: 0.9822 - val_loss: 0.0480 - val_accuracy: 0.9867\n",
            "Epoch 35/40\n",
            "26/26 [==============================] - 4s 165ms/step - loss: 0.0609 - accuracy: 0.9823 - val_loss: 0.0474 - val_accuracy: 0.9868\n",
            "Epoch 36/40\n",
            "26/26 [==============================] - 4s 167ms/step - loss: 0.0602 - accuracy: 0.9825 - val_loss: 0.0467 - val_accuracy: 0.9870\n",
            "Epoch 37/40\n",
            "26/26 [==============================] - 4s 164ms/step - loss: 0.0596 - accuracy: 0.9826 - val_loss: 0.0468 - val_accuracy: 0.9869\n",
            "Epoch 38/40\n",
            "26/26 [==============================] - 4s 165ms/step - loss: 0.0595 - accuracy: 0.9827 - val_loss: 0.0457 - val_accuracy: 0.9872\n",
            "Epoch 39/40\n",
            "26/26 [==============================] - 4s 164ms/step - loss: 0.0587 - accuracy: 0.9829 - val_loss: 0.0453 - val_accuracy: 0.9873\n",
            "Epoch 40/40\n",
            "26/26 [==============================] - 4s 164ms/step - loss: 0.0583 - accuracy: 0.9830 - val_loss: 0.0455 - val_accuracy: 0.9872\n"
          ],
          "name": "stdout"
        }
      ]
    },
    {
      "cell_type": "code",
      "metadata": {
        "id": "sAC6MOv5dNGM",
        "colab_type": "code",
        "colab": {}
      },
      "source": [
        "# # Loading Tensorboard\n",
        "# %load_ext tensorboard\n",
        "# %tensorboard --logdir logs/fit"
      ],
      "execution_count": 69,
      "outputs": []
    },
    {
      "cell_type": "code",
      "metadata": {
        "id": "he0Yb2xGd1CZ",
        "colab_type": "code",
        "colab": {
          "base_uri": "https://localhost:8080/",
          "height": 404
        },
        "outputId": "18417858-6804-48b9-a079-1f03b759e29a"
      },
      "source": [
        "import matplotlib.pyplot as plt\n",
        "\n",
        "def learning_curve(hist_obj, title):\n",
        "  hist = pd.DataFrame(hist_obj.history)\n",
        "\n",
        "  hist1 = hist[['accuracy', 'val_accuracy']]\n",
        "  hist2 = hist[['loss', 'val_loss']]\n",
        "  plt.figure(figsize=(18, 6))\n",
        "  plt.subplot(1, 2, 1)\n",
        "  plt.plot(hist1)\n",
        "  plt.xlabel('Epoches ------>')\n",
        "  plt.ylabel('Accuracy')\n",
        "  plt.legend(['Train Acc.', 'Val Acc.'], loc='lower right')\n",
        "  plt.title('Train and Validation Accuracy Comparison')\n",
        "  plt.subplot(1, 2, 2)\n",
        "  plt.plot(hist2)\n",
        "  plt.xlabel('Epoches ------>')\n",
        "  plt.ylabel('Loss')\n",
        "  plt.legend(['Train Loss', 'Val Loss'], loc='upper right')\n",
        "  plt.title('Train and Validation Loss Comparison')\n",
        "  plt.show()\n",
        "\n",
        "learning_curve(history, 'Learning Curves')"
      ],
      "execution_count": 70,
      "outputs": [
        {
          "output_type": "display_data",
          "data": {
            "image/png": "[encoded data removed]",
            "text/plain": [
              "<Figure size 1296x432 with 2 Axes>"
            ]
          },
          "metadata": {
            "tags": [],
            "needs_background": "light"
          }
        }
      ]
    },
    {
      "cell_type": "markdown",
      "metadata": {
        "id": "VkFIZQgRjswp",
        "colab_type": "text"
      },
      "source": [
        "#### Accuracy on Test Data"
      ]
    },
    {
      "cell_type": "code",
      "metadata": {
        "id": "wBWG4xKTkThR",
        "colab_type": "code",
        "colab": {
          "base_uri": "https://localhost:8080/",
          "height": 34
        },
        "outputId": "0dca1224-fc74-40cb-cdae-877878ce4f9f"
      },
      "source": [
        "loss, accuracy = model_bilstm.evaluate(test_tokens, np.array(test_tags), verbose=0)\n",
        "\n",
        "print('Loss: {0:.2%} and Accuracy: {1:.2%} for Test Dataset.'.format(loss, accuracy))"
      ],
      "execution_count": 71,
      "outputs": [
        {
          "output_type": "stream",
          "text": [
            "Loss: 4.52% and Accuracy: 98.73% for Test Dataset.\n"
          ],
          "name": "stdout"
        }
      ]
    },
    {
      "cell_type": "markdown",
      "metadata": {
        "id": "6CMhsMV4oEjl",
        "colab_type": "text"
      },
      "source": [
        "#### Checking results on real data:"
      ]
    },
    {
      "cell_type": "code",
      "metadata": {
        "id": "wfK2ZmTQi_ih",
        "colab_type": "code",
        "colab": {}
      },
      "source": [
        "def NER(text):\n",
        "  t = text.lower().split()\n",
        "  maxlen = len(set(data['Word']))\n",
        "  t = [token2idx.get(i,0) for i in t]\n",
        "\n",
        "  s = pad_sequences([t], maxlen = 104, padding='post')\n",
        "  r = model_bilstm.predict(s)\n",
        "\n",
        "  result = [idx2tag.get(i,'O') for i in np.argmax(r[0], axis=1)[:len(t)]]\n",
        "  conf = ['{:.2f}'.format(i) for i in np.max(r[0], axis=1)[:len(t)]]\n",
        "  return result, conf"
      ],
      "execution_count": 88,
      "outputs": []
    },
    {
      "cell_type": "code",
      "metadata": {
        "id": "yjSUMIVLNP7Z",
        "colab_type": "code",
        "colab": {
          "base_uri": "https://localhost:8080/",
          "height": 136
        },
        "outputId": "3303dbdc-fcdc-49ae-d110-6210a69877ba"
      },
      "source": [
        "print(\"Steve went to Paris for 8 days\")\n",
        "result, conf = NER(\"Steve went to Paris for 8 days\")\n",
        "print(result,'\\n',conf)\n",
        "\n",
        "print(\"\\nJohn lives in New York\")\n",
        "result, conf = NER(\"John lives in New York\")\n",
        "print(result,'\\n',conf)"
      ],
      "execution_count": 94,
      "outputs": [
        {
          "output_type": "stream",
          "text": [
            "Steve went to Paris for 8 days\n",
            "['B-per', 'O', 'O', 'B-geo', 'O', 'B-tim', 'O'] \n",
            " ['0.83', '0.98', '1.00', '0.85', '0.95', '0.61', '0.93']\n",
            "\n",
            "John lives in New York\n",
            "['B-per', 'O', 'O', 'B-geo', 'I-geo'] \n",
            " ['0.94', '0.79', '0.99', '0.83', '0.73']\n"
          ],
          "name": "stdout"
        }
      ]
    },
    {
      "cell_type": "markdown",
      "metadata": {
        "id": "ps9m9k5EiXvk",
        "colab_type": "text"
      },
      "source": [
        "### Future Explorations"
      ]
    },
    {
      "cell_type": "markdown",
      "metadata": {
        "id": "J8XXZp8ri_Iv",
        "colab_type": "text"
      },
      "source": [
        "* Try fixing data imbalance problem.\n",
        "* Try \"fused batch norm\" instead of batch norm for fast processing.\n",
        "* Try FastText by Facebook to handle semantic representation of out of vocabulary words."
      ]
    },
    {
      "cell_type": "code",
      "metadata": {
        "id": "y5Ad1DEzqGD7",
        "colab_type": "code",
        "colab": {}
      },
      "source": [
        ""
      ],
      "execution_count": null,
      "outputs": []
    }
  ]
}